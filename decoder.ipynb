{
 "cells": [
  {
   "cell_type": "code",
   "execution_count": 1,
   "metadata": {},
   "outputs": [],
   "source": [
    "%matplotlib widget"
   ]
  },
  {
   "cell_type": "code",
   "execution_count": 2,
   "metadata": {},
   "outputs": [],
   "source": [
    "import numpy as np\n",
    "import matplotlib.pyplot as plt\n",
    "import matplotlib.animation as animation\n",
    "# from IPython.display import HTML\n",
    "\n",
    "import seaborn as sns\n",
    "rocket = sns.color_palette(\"rocket\", as_cmap=True)\n",
    "\n",
    "plt.rcParams[\"animation.html\"] = \"jshtml\"\n",
    "plt.rcParams['figure.dpi'] = 150\n",
    "plt.ioff()\n",
    "\n",
    "# from tqdm import tqdm\n",
    "from toric import *"
   ]
  },
  {
   "cell_type": "code",
   "execution_count": 3,
   "metadata": {},
   "outputs": [],
   "source": [
    "L = 10 # Lattice size\n",
    "p_error = 0.05 # Error probability per spin\n",
    "c = 10 # \"Field velocity\" - number of field updates per cycle\n",
    "η = 0.25 # Smoothing paramter for Jacobi method\n",
    "T = 10 # Epochs"
   ]
  },
  {
   "cell_type": "code",
   "execution_count": 4,
   "metadata": {},
   "outputs": [
    {
     "data": {
      "application/vnd.jupyter.widget-view+json": {
       "model_id": "63ca1ef49768418c8cebc5e1a89f5f8a",
       "version_major": 2,
       "version_minor": 0
      },
      "image/png": "[encoded data removed]",
      "text/html": [
       "\n",
       "            <div style=\"display: inline-block;\">\n",
       "                <div class=\"jupyter-widgets widget-label\" style=\"text-align: center;\">\n",
       "                    Figure\n",
       "                </div>\n",
       "                <img src='data:image/png;base64,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' width=960.0/>\n",
       "            </div>\n",
       "        "
      ],
      "text/plain": [
       "Canvas(toolbar=Toolbar(toolitems=[('Home', 'Reset original view', 'home', 'home'), ('Back', 'Back to previous …"
      ]
     },
     "metadata": {},
     "output_type": "display_data"
    }
   ],
   "source": [
    "mystate = init_state(L, p_error)\n",
    "mystate.draw(draw_error = True)\n",
    "plt.show()"
   ]
  },
  {
   "cell_type": "code",
   "execution_count": 6,
   "metadata": {},
   "outputs": [],
   "source": [
    "def decoder_2D(state: State, T: int, c: int, η: float) -> tuple[np.ndarray, np.ndarray]:\n",
    "    \"\"\"\n",
    "    Run a 2D decoder on a state for T epochs.\n",
    "\n",
    "    Parameters:\n",
    "    state (State): The state to decode.\n",
    "    T (int): Number of epochs to run.\n",
    "    c (int): Field velocity.\n",
    "    η (float): Smoothing parameter.\n",
    "\n",
    "    Returns:\n",
    "    np.ndarray: T x L x L array representing the anyon position history.\n",
    "    \"\"\"\n",
    "    q_history = []\n",
    "    error_history = []\n",
    "    for _ in range(T):\n",
    "        for _ in range(c):\n",
    "            state.update_field(η)\n",
    "        state.update_anyon\n",
    "        q_history.append(state.q.copy())\n",
    "        error_history.append(state.error.copy())\n",
    "    return np.array(q_history), np.array(error_history)"
   ]
  },
  {
   "cell_type": "code",
   "execution_count": 79,
   "metadata": {},
   "outputs": [],
   "source": [
    "def plot_evolution(q_history: np.ndarray, trail: bool) -> animation.FuncAnimation:\n",
    "    \"\"\"\n",
    "    Plot the evolution of the anyon position history.\n",
    "\n",
    "    Parameters:\n",
    "    q_history (np.ndarray): T x L x L array representing the anyon position history.\n",
    "    trail (bool): Whether to display a trail behind the anyon as it moves.\n",
    "\n",
    "    Returns:\n",
    "    animation.FuncAnimation: Animation of the anyon evolution.\n",
    "    \"\"\"\n",
    "\n",
    "    fig, ax = plt.subplots()\n",
    "    mat = ax.matshow(q_history[0,:,:], cmap = rocket)\n",
    "    fig.colorbar(mat)\n",
    "\n",
    "    def update(i):\n",
    "        if trail and i > 0:\n",
    "            previous = q_history[i-1::-1,:,:]\n",
    "            weights = 2 ** np.arange(-1, -i-1, -1, dtype = np.float32)\n",
    "            history = np.tensordot(previous, weights, axes = (0, 0))\n",
    "            mat.set_data(np.maximum(q_history[i,:,:], history))\n",
    "        else:\n",
    "            mat.set_data(q_history[i,:,:])\n",
    "        return mat\n",
    "    \n",
    "    return animation.FuncAnimation(fig = fig, func = update, frames = T, interval = 250)"
   ]
  },
  {
   "cell_type": "code",
   "execution_count": 80,
   "metadata": {},
   "outputs": [],
   "source": [
    "mystate = init_state(L, p_error)\n",
    "q_history, error_history = decoder_2D(mystate, T, c, η)"
   ]
  },
  {
   "cell_type": "markdown",
   "metadata": {},
   "source": [
    "# todo:\n",
    "* figure out how to plot errors"
   ]
  },
  {
   "cell_type": "code",
   "execution_count": 81,
   "metadata": {},
   "outputs": [
    {
     "data": {
      "text/plain": [
       "Text(0.5, 1.0, 'Final state y errors')"
      ]
     },
     "execution_count": 81,
     "metadata": {},
     "output_type": "execute_result"
    }
   ],
   "source": [
    "fig, ax = plt.subplots(1, 3)\n",
    "ax[0].matshow(q_history[-1,:,:], cmap = rocket)\n",
    "ax[1].matshow(error_history[-1,:,:,0], cmap = rocket)\n",
    "ax[2].matshow(error_history[-1,:,:,1], cmap = rocket)\n",
    "ax[0].set_title(\"Final state anyon configuration\")\n",
    "ax[1].set_title(\"Final state x errors\")\n",
    "ax[2].set_title(\"Final state y errors\")\n",
    "# plt.show()"
   ]
  },
  {
   "cell_type": "code",
   "execution_count": 82,
   "metadata": {},
   "outputs": [],
   "source": [
    "q_history, error_history = decoder_2D(init_state(L, p_error), T, c, η)"
   ]
  },
  {
   "cell_type": "code",
   "execution_count": 83,
   "metadata": {},
   "outputs": [],
   "source": [
    "# plot_evolution(q_history, trail = False)"
   ]
  },
  {
   "cell_type": "markdown",
   "metadata": {},
   "source": [
    "# todo\n",
    "* fix labelling convention"
   ]
  },
  {
   "cell_type": "code",
   "execution_count": 84,
   "metadata": {},
   "outputs": [
    {
     "name": "stdout",
     "output_type": "stream",
     "text": [
      "0 0\n"
     ]
    }
   ],
   "source": [
    "import numpy as np\n",
    "import networkx as nx\n",
    "from pymatching import Matching\n",
    "\n",
    "def create_block_2D(L,p):\n",
    "\n",
    "    \"\"\"\n",
    "    +-(0,T+1)+--------+--------+--------+\n",
    "    |        |        |        |        |\n",
    "    | (0,T)  |        |        |        |\n",
    "    |        |        |        |        |\n",
    "    +-(0,T)--+--------+--------+--------+\n",
    "    |        |        |        |        |\n",
    "    |        |        |        |        |\n",
    "    |        |        |        |        |\n",
    "    +--------+--------+--------+--------+\n",
    "    |        |        |        |        |\n",
    "    |        |        |        |        |\n",
    "    |        |        |        |        |\n",
    "    +--(0,1)-+--(1,1)-+--------+--------+\n",
    "    (0,0)  (1,0)      |        |        |\n",
    "    |  (0,0) |  (1,0) |        |        |\n",
    "    |        |        |        |        |\n",
    "    +--(0,0)-+--(1,0)-+--------+--------+\n",
    "    \"\"\"\n",
    "\n",
    "    # check indicies and vertex indicies\n",
    "\n",
    "    # errors on edges, and anyons at center of the plaquettes\n",
    "\n",
    "    c = {}\n",
    "    b = {}\n",
    "    error_rate = {}\n",
    "\n",
    "    nC = 0 # cells\n",
    "    nB = 0 # bonds\n",
    "\n",
    "    # Initializes a dictionary containing the bonds and the vertices\n",
    "\n",
    "    for x in range(L):\n",
    "        for y in range(L):\n",
    "        \n",
    "            # bitflip error on horizontal bonds\n",
    "            b[x,y,'x'] = nB\n",
    "            error_rate[nB] = p\n",
    "            nB += 1\n",
    "\n",
    "            # bitflip error on vertical bonds\n",
    "            b[x,y,'y'] = nB\n",
    "            error_rate[nB] = p\n",
    "            nB += 1\n",
    "        \n",
    "\n",
    "    for x in range(L):\n",
    "        for y in range(L):\n",
    "            c[x,y] = nC\n",
    "            nC += 1\n",
    "            \n",
    "    return nC, nB, c, b, error_rate\n",
    "\n",
    "\n",
    "def create_pcm_2D(nC, nB, c, b, final = False):\n",
    "    \n",
    "    # bipartite graph between cells and bonds\n",
    "    # encodes the structure of the lattice\n",
    "\n",
    "    pcm = np.zeros((nC, nB), dtype=np.int32)\n",
    "\n",
    "    for x in range(L):\n",
    "        for y in range(L):\n",
    "            \n",
    "            cc = c[x,y]\n",
    "            \n",
    "            bb = b[x,y,'x']\n",
    "            pcm[cc, bb] = 1\n",
    "            bb = b[x,(y+1)%L,'x']\n",
    "            pcm[cc, bb] = 1\n",
    "\n",
    "            bb = b[x,y,'y']\n",
    "            pcm[cc, bb] = 1\n",
    "            bb = b[(x+1)%L,y,'y']\n",
    "            pcm[cc, bb] = 1\n",
    "                \n",
    "    return pcm\n",
    "\n",
    "\n",
    "def build_matching_graph(pcm, error_rate):\n",
    "    \"\"\"Function to build a matching graph from a parity check matrix.\n",
    "\n",
    "    Parameters:\n",
    "        pcm (2d numpy array): Parity-check matrix.\n",
    "        p (float): error probability\n",
    "\n",
    "    Returns:\n",
    "        A networkx (matching) graph.\n",
    "    \"\"\"\n",
    "\n",
    "    # Vertices are the stabilizers/checks (cells), and the edges are the errors (bonds)\n",
    "    # Looks like a toroidal lattice\n",
    "\n",
    "    g = nx.Graph()\n",
    "    m, _ = pcm.shape\n",
    "    x = 0\n",
    "    # bulk = 0\n",
    "    b = 0\n",
    "    z = 0\n",
    "    for col in pcm.T: # Loop through the qubits\n",
    "        check_indices = [i for i, y in enumerate(col) if y != 0] # y != 0 if the qubit belongs to stabilizer corresponding to that index\n",
    "\n",
    "        if len(check_indices) == 2:\n",
    "            p = error_rate[x]\n",
    "            g.add_edge(check_indices[0], check_indices[1], fault_ids=x, weight=np.log((1-p)/p)) # Each edge is a qubit\n",
    "            # bulk += 1\n",
    "        elif len(check_indices) == 1:\n",
    "            p = error_rate[x]\n",
    "            g.add_edge(check_indices[0], m+b, fault_ids=x, weight=np.log((1-p)/p))\n",
    "            # g.add_edge(check_indices[0], m+b, fault_ids=x, weight=0)\n",
    "            # no edges added\n",
    "            b += 1\n",
    "        else:\n",
    "            # pass\n",
    "            if len(check_indices) > 0:\n",
    "                raise ValueError('Each \"bit\" should be in one or two checks!')\n",
    "            else:\n",
    "                z += 1\n",
    "            \n",
    "        x += 1\n",
    "\n",
    "    print(b, z)\n",
    "\n",
    "    for i in range(m):\n",
    "        g.nodes[i]['is_boundary'] = False\n",
    "    for i in range(b):\n",
    "        g.nodes[m + i]['is_boundary'] = True\n",
    "        for j in range(i + 1, b):\n",
    "            g.add_edge(m + i, m + j, fault_ids=set(), weight=0.0) # What is this line?\n",
    "        \n",
    "    # print(x, bulk, boundary)\n",
    "    \n",
    "    return g\n",
    "\n",
    "\n",
    "\n",
    "# 2D decoder\n",
    "nC_2D, nB_2D, c_2D, b_2D, error_rate_2D = create_block_2D(L, p_error)\n",
    "# final parity check matrix\n",
    "pcm_2D = create_pcm_2D(nC_2D, nB_2D, c_2D, b_2D, False)\n",
    "# print(pcm_final.shape)\n",
    "matching_graph_2D = build_matching_graph(pcm_2D, error_rate_2D)\n",
    "m_2D = Matching(matching_graph_2D)\n",
    "\n",
    "\n",
    "\n",
    "# here syndrome will be the anyon configuration, your state.q\n",
    "# the returned correction is the guess of error, based on the syndrome\n",
    "# the guess here is an optimization function, the so-called minimal-weight perfect matching\n",
    "# the decoder will be applied at the end (for the final state of state.q).\n",
    "\n",
    "# matches the anyons\n",
    "corr, weight = m_2D.decode(q_history[-1,:,:], return_weight = True)"
   ]
  },
  {
   "cell_type": "code",
   "execution_count": 85,
   "metadata": {},
   "outputs": [],
   "source": [
    "sum0 = 0\n",
    "for y in range(L):\n",
    "    tmp0 = 0\n",
    "    for x in range(L):\n",
    "        tmp0 = tmp0^corr[b_2D[x,y,'x']]^error_history[-1,x,y,0]\n",
    "    sum0 += tmp0\n",
    "    \n",
    "sum1 = 0\n",
    "for x in range(L):\n",
    "    tmp1 = 0\n",
    "    for y in range(L):\n",
    "        tmp1 = tmp1^corr[b_2D[x,y,'y']]^error_history[-1,x,y,1]\n",
    "    sum1 += tmp1\n",
    "\n",
    "# print(sum0, sum1)\n",
    "\n",
    "logical_failure = (sum0 > 0) or (sum1 > 0)"
   ]
  },
  {
   "cell_type": "code",
   "execution_count": 86,
   "metadata": {},
   "outputs": [
    {
     "data": {
      "text/plain": [
       "False"
      ]
     },
     "execution_count": 86,
     "metadata": {},
     "output_type": "execute_result"
    }
   ],
   "source": [
    "logical_failure"
   ]
  },
  {
   "cell_type": "code",
   "execution_count": null,
   "metadata": {},
   "outputs": [],
   "source": []
  }
 ],
 "metadata": {
  "kernelspec": {
   "display_name": "toric",
   "language": "python",
   "name": "python3"
  },
  "language_info": {
   "codemirror_mode": {
    "name": "ipython",
    "version": 3
   },
   "file_extension": ".py",
   "mimetype": "text/x-python",
   "name": "python",
   "nbconvert_exporter": "python",
   "pygments_lexer": "ipython3",
   "version": "3.12.4"
  }
 },
 "nbformat": 4,
 "nbformat_minor": 2
}
