{
 "cells": [
  {
   "cell_type": "code",
   "execution_count": 106,
   "metadata": {},
   "outputs": [],
   "source": [
    "import numpy as np\n",
    "from numba import njit\n",
    "from scipy.ndimage import laplace\n",
    "from tqdm import tqdm\n",
    "\n",
    "BASESHIFT = np.array([-1, 0, 1])\n",
    "NEIGHBORS = np.array([[0, 1, 0], [1, 0, 1], [0, 1, 0]])"
   ]
  },
  {
   "cell_type": "code",
   "execution_count": 78,
   "metadata": {},
   "outputs": [],
   "source": [
    "class State:\n",
    "    def __init__(self, L, N, q):\n",
    "        self.L = L # lattice size\n",
    "        self.N = N # number of anyons\n",
    "        self.q = q # anyons\n",
    "        self.Φ = np.zeros((L, L), dtype = np.float32) # field"
   ]
  },
  {
   "cell_type": "code",
   "execution_count": 79,
   "metadata": {},
   "outputs": [],
   "source": [
    "def init_state(L, p_anyon):\n",
    "    vert_anyons = (np.random.rand(L, L) < p_anyon).astype(int)\n",
    "    vert_anyons += np.roll(vert_anyons, 1, axis=0)\n",
    "\n",
    "    horiz_anyons = (np.random.rand(L, L) < p_anyon).astype(int)\n",
    "    horiz_anyons += np.roll(horiz_anyons, 1, axis=1)\n",
    "    \n",
    "    q = (vert_anyons + horiz_anyons) % 2\n",
    "    N = np.sum(q)\n",
    "    return State(L, N, q)"
   ]
  },
  {
   "cell_type": "code",
   "execution_count": 88,
   "metadata": {},
   "outputs": [],
   "source": [
    "def update_field(state, η):\n",
    "    state.Φ += η / 4 * laplace(state.Φ, mode = 'wrap')\n",
    "    state.Φ += state.q"
   ]
  },
  {
   "cell_type": "code",
   "execution_count": null,
   "metadata": {},
   "outputs": [],
   "source": [
    "def update_anyon(state):\n",
    "    for x, y in np.transpose(np.nonzero(state.q)):\n",
    "        idx = x * state.L + y\n",
    "        shifts = np.add.outer(BASESHIFT * state.L, BASESHIFT).flatten()\n",
    "        neighborhood = state.phi.take(shifts + idx, mode = 'wrap')\n",
    "        neighborhood *= NEIGHBORS\n",
    "        dir = neighborhood.argmax()"
   ]
  },
  {
   "cell_type": "code",
   "execution_count": 81,
   "metadata": {},
   "outputs": [],
   "source": [
    "mystate = init_state(10, 0.5)"
   ]
  },
  {
   "cell_type": "code",
   "execution_count": 90,
   "metadata": {},
   "outputs": [
    {
     "data": {
      "text/plain": [
       "array([[ 1,  2,  3,  4,  5],\n",
       "       [ 6,  7,  8,  9, 10],\n",
       "       [11, 12, 13, 14, 15],\n",
       "       [16, 17, 18, 19, 20],\n",
       "       [21, 22, 23, 24, 25]])"
      ]
     },
     "execution_count": 90,
     "metadata": {},
     "output_type": "execute_result"
    }
   ],
   "source": [
    "testarr = np.arange(25).reshape(5, 5) + 1\n",
    "testarr"
   ]
  },
  {
   "cell_type": "code",
   "execution_count": 110,
   "metadata": {},
   "outputs": [
    {
     "data": {
      "text/plain": [
       "array([[24]], dtype=int64)"
      ]
     },
     "execution_count": 110,
     "metadata": {},
     "output_type": "execute_result"
    }
   ],
   "source": [
    "testarr.argmax(keepdims = True)"
   ]
  },
  {
   "cell_type": "code",
   "execution_count": null,
   "metadata": {},
   "outputs": [],
   "source": []
  }
 ],
 "metadata": {
  "kernelspec": {
   "display_name": "toric",
   "language": "python",
   "name": "python3"
  },
  "language_info": {
   "codemirror_mode": {
    "name": "ipython",
    "version": 3
   },
   "file_extension": ".py",
   "mimetype": "text/x-python",
   "name": "python",
   "nbconvert_exporter": "python",
   "pygments_lexer": "ipython3",
   "version": "3.12.4"
  }
 },
 "nbformat": 4,
 "nbformat_minor": 2
}
