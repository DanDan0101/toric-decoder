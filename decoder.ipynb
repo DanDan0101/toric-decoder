{
 "cells": [
  {
   "cell_type": "code",
   "execution_count": 1,
   "metadata": {},
   "outputs": [],
   "source": [
    "%matplotlib widget"
   ]
  },
  {
   "cell_type": "code",
   "execution_count": 2,
   "metadata": {},
   "outputs": [],
   "source": [
    "import numpy as np\n",
    "import matplotlib.pyplot as plt\n",
    "\n",
    "import seaborn as sns\n",
    "rocket = sns.color_palette(\"rocket\", as_cmap=True)\n",
    "\n",
    "plt.rcParams[\"animation.html\"] = \"jshtml\"\n",
    "plt.rcParams['figure.dpi'] = 150\n",
    "plt.ioff()\n",
    "\n",
    "from tqdm.notebook import tqdm\n",
    "from toric import *\n",
    "# from mwpm import *"
   ]
  },
  {
   "cell_type": "code",
   "execution_count": 3,
   "metadata": {},
   "outputs": [],
   "source": [
    "# Simulation parameters\n",
    "\n",
    "L = 50 # Lattice size\n",
    "p_error = 0.06 # Error probability per spin\n",
    "η = 0.5 # Smoothing paramter for Jacobi method\n",
    "c = 10 # \"Field velocity\" - number of field updates per cycle\n",
    "T = 100 # Epochs"
   ]
  },
  {
   "cell_type": "code",
   "execution_count": null,
   "metadata": {},
   "outputs": [],
   "source": [
    "mystate = init_state(L, p_error)\n",
    "q_history, error_history = decoder_2D(mystate, T, c, η, history = True)\n",
    "print(mystate.N > 0 or logical_error(mystate.error))\n",
    "plot_evolution(q_history, error_history, trail = False)"
   ]
  },
  {
   "cell_type": "code",
   "execution_count": 6,
   "metadata": {},
   "outputs": [],
   "source": [
    "fail_rate = np.zeros((40, 20)) # L/2, c\n",
    "shots = 10"
   ]
  },
  {
   "cell_type": "code",
   "execution_count": 7,
   "metadata": {},
   "outputs": [
    {
     "data": {
      "application/vnd.jupyter.widget-view+json": {
       "model_id": "eaf8048c7a3748bc913001a9cb15cefb",
       "version_major": 2,
       "version_minor": 0
      },
      "text/plain": [
       "  0%|          | 0/20 [00:00<?, ?it/s]"
      ]
     },
     "metadata": {},
     "output_type": "display_data"
    },
    {
     "data": {
      "application/vnd.jupyter.widget-view+json": {
       "model_id": "126c018f28c64c34a7a75fb3dd6df30c",
       "version_major": 2,
       "version_minor": 0
      },
      "text/plain": [
       "  0%|          | 0/40 [00:00<?, ?it/s]"
      ]
     },
     "metadata": {},
     "output_type": "display_data"
    },
    {
     "data": {
      "application/vnd.jupyter.widget-view+json": {
       "model_id": "f079c6d619ae484f87ac07cc13c381b6",
       "version_major": 2,
       "version_minor": 0
      },
      "text/plain": [
       "  0%|          | 0/40 [00:00<?, ?it/s]"
      ]
     },
     "metadata": {},
     "output_type": "display_data"
    },
    {
     "data": {
      "application/vnd.jupyter.widget-view+json": {
       "model_id": "c3427b4d2e0f4488b34a45f3b61be329",
       "version_major": 2,
       "version_minor": 0
      },
      "text/plain": [
       "  0%|          | 0/40 [00:00<?, ?it/s]"
      ]
     },
     "metadata": {},
     "output_type": "display_data"
    },
    {
     "data": {
      "application/vnd.jupyter.widget-view+json": {
       "model_id": "0ae0e71f35de44e6a4b6282bb16705bf",
       "version_major": 2,
       "version_minor": 0
      },
      "text/plain": [
       "  0%|          | 0/40 [00:00<?, ?it/s]"
      ]
     },
     "metadata": {},
     "output_type": "display_data"
    },
    {
     "data": {
      "application/vnd.jupyter.widget-view+json": {
       "model_id": "f14717e1e84e49bda5f2ca4583b900f4",
       "version_major": 2,
       "version_minor": 0
      },
      "text/plain": [
       "  0%|          | 0/40 [00:00<?, ?it/s]"
      ]
     },
     "metadata": {},
     "output_type": "display_data"
    },
    {
     "data": {
      "application/vnd.jupyter.widget-view+json": {
       "model_id": "8764d7e5aa0047cbaa15e1fddd0f7485",
       "version_major": 2,
       "version_minor": 0
      },
      "text/plain": [
       "  0%|          | 0/40 [00:00<?, ?it/s]"
      ]
     },
     "metadata": {},
     "output_type": "display_data"
    },
    {
     "data": {
      "application/vnd.jupyter.widget-view+json": {
       "model_id": "315627a71bb64bdcb600e2b5a78b3d5c",
       "version_major": 2,
       "version_minor": 0
      },
      "text/plain": [
       "  0%|          | 0/40 [00:00<?, ?it/s]"
      ]
     },
     "metadata": {},
     "output_type": "display_data"
    },
    {
     "data": {
      "application/vnd.jupyter.widget-view+json": {
       "model_id": "31958bffac284afe9ef145294659be3c",
       "version_major": 2,
       "version_minor": 0
      },
      "text/plain": [
       "  0%|          | 0/40 [00:00<?, ?it/s]"
      ]
     },
     "metadata": {},
     "output_type": "display_data"
    },
    {
     "data": {
      "application/vnd.jupyter.widget-view+json": {
       "model_id": "f1c447525a36417ba245dd5866c75c27",
       "version_major": 2,
       "version_minor": 0
      },
      "text/plain": [
       "  0%|          | 0/40 [00:00<?, ?it/s]"
      ]
     },
     "metadata": {},
     "output_type": "display_data"
    },
    {
     "data": {
      "application/vnd.jupyter.widget-view+json": {
       "model_id": "a947b64a95e340728e97cfda9cc19713",
       "version_major": 2,
       "version_minor": 0
      },
      "text/plain": [
       "  0%|          | 0/40 [00:00<?, ?it/s]"
      ]
     },
     "metadata": {},
     "output_type": "display_data"
    },
    {
     "data": {
      "application/vnd.jupyter.widget-view+json": {
       "model_id": "357096f9f215409f84fb94ca313b1920",
       "version_major": 2,
       "version_minor": 0
      },
      "text/plain": [
       "  0%|          | 0/40 [00:00<?, ?it/s]"
      ]
     },
     "metadata": {},
     "output_type": "display_data"
    },
    {
     "data": {
      "application/vnd.jupyter.widget-view+json": {
       "model_id": "b705de50736a4646af79be79cc17033d",
       "version_major": 2,
       "version_minor": 0
      },
      "text/plain": [
       "  0%|          | 0/40 [00:00<?, ?it/s]"
      ]
     },
     "metadata": {},
     "output_type": "display_data"
    },
    {
     "data": {
      "application/vnd.jupyter.widget-view+json": {
       "model_id": "f8d326d0f6554b4fa59c08fbf29390be",
       "version_major": 2,
       "version_minor": 0
      },
      "text/plain": [
       "  0%|          | 0/40 [00:00<?, ?it/s]"
      ]
     },
     "metadata": {},
     "output_type": "display_data"
    },
    {
     "data": {
      "application/vnd.jupyter.widget-view+json": {
       "model_id": "0189c6ccdcd941d1a6d935bdc1d00114",
       "version_major": 2,
       "version_minor": 0
      },
      "text/plain": [
       "  0%|          | 0/40 [00:00<?, ?it/s]"
      ]
     },
     "metadata": {},
     "output_type": "display_data"
    },
    {
     "data": {
      "application/vnd.jupyter.widget-view+json": {
       "model_id": "72731ed9c2b24f43bd2710e4d3fbe8da",
       "version_major": 2,
       "version_minor": 0
      },
      "text/plain": [
       "  0%|          | 0/40 [00:00<?, ?it/s]"
      ]
     },
     "metadata": {},
     "output_type": "display_data"
    },
    {
     "data": {
      "application/vnd.jupyter.widget-view+json": {
       "model_id": "b02306c2c6fe474bb654b3c5babb572a",
       "version_major": 2,
       "version_minor": 0
      },
      "text/plain": [
       "  0%|          | 0/40 [00:00<?, ?it/s]"
      ]
     },
     "metadata": {},
     "output_type": "display_data"
    },
    {
     "data": {
      "application/vnd.jupyter.widget-view+json": {
       "model_id": "ce0a9fa45bd84f3394dc0c2c877931c8",
       "version_major": 2,
       "version_minor": 0
      },
      "text/plain": [
       "  0%|          | 0/40 [00:00<?, ?it/s]"
      ]
     },
     "metadata": {},
     "output_type": "display_data"
    },
    {
     "data": {
      "application/vnd.jupyter.widget-view+json": {
       "model_id": "d3796715111b42278dd3f53ecd773df4",
       "version_major": 2,
       "version_minor": 0
      },
      "text/plain": [
       "  0%|          | 0/40 [00:00<?, ?it/s]"
      ]
     },
     "metadata": {},
     "output_type": "display_data"
    },
    {
     "data": {
      "application/vnd.jupyter.widget-view+json": {
       "model_id": "289907b1907e4ab79433d42953563a3f",
       "version_major": 2,
       "version_minor": 0
      },
      "text/plain": [
       "  0%|          | 0/40 [00:00<?, ?it/s]"
      ]
     },
     "metadata": {},
     "output_type": "display_data"
    },
    {
     "data": {
      "application/vnd.jupyter.widget-view+json": {
       "model_id": "9819e59d6e6044f283182dd60245715e",
       "version_major": 2,
       "version_minor": 0
      },
      "text/plain": [
       "  0%|          | 0/40 [00:00<?, ?it/s]"
      ]
     },
     "metadata": {},
     "output_type": "display_data"
    }
   ],
   "source": [
    "for c in tqdm(range(20)):\n",
    "    for L in tqdm(range(0, 80, 2)):\n",
    "        T = 10 * L\n",
    "        fails = 0\n",
    "        for _ in range(shots):\n",
    "            mystate = init_state(L, p_error)\n",
    "            decoder_2D(mystate, T, c, η, history = False)\n",
    "            fails += (mystate.N > 0 or logical_error(mystate.error))\n",
    "        fail_rate[L // 2, c] = fails / shots"
   ]
  },
  {
   "cell_type": "code",
   "execution_count": 15,
   "metadata": {},
   "outputs": [
    {
     "data": {
      "application/vnd.jupyter.widget-view+json": {
       "model_id": "235e9f0fd0214a2ab0dcd7f129dc7ceb",
       "version_major": 2,
       "version_minor": 0
      },
      "image/png": "[encoded data removed]",
      "text/html": [
       "\n",
       "            <div style=\"display: inline-block;\">\n",
       "                <div class=\"jupyter-widgets widget-label\" style=\"text-align: center;\">\n",
       "                    Figure\n",
       "                </div>\n",
       "                <img src='data:image/png;base64,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' width=960.0/>\n",
       "            </div>\n",
       "        "
      ],
      "text/plain": [
       "Canvas(toolbar=Toolbar(toolitems=[('Home', 'Reset original view', 'home', 'home'), ('Back', 'Back to previous …"
      ]
     },
     "metadata": {},
     "output_type": "display_data"
    }
   ],
   "source": [
    "fig, ax = plt.subplots()\n",
    "mat = ax.matshow(fail_rate.T, origin = 'lower')\n",
    "fig.colorbar(mat)\n",
    "ax.set_xlabel('System size $L/2$')\n",
    "ax.set_ylabel('Field velocity $c$')\n",
    "ax.xaxis.tick_bottom()\n",
    "ax.set_title('Failure rate')\n",
    "plt.savefig('fail_rate.png')\n",
    "plt.show()"
   ]
  },
  {
   "cell_type": "code",
   "execution_count": null,
   "metadata": {},
   "outputs": [],
   "source": []
  }
 ],
 "metadata": {
  "kernelspec": {
   "display_name": "toric",
   "language": "python",
   "name": "python3"
  },
  "language_info": {
   "codemirror_mode": {
    "name": "ipython",
    "version": 3
   },
   "file_extension": ".py",
   "mimetype": "text/x-python",
   "name": "python",
   "nbconvert_exporter": "python",
   "pygments_lexer": "ipython3",
   "version": "3.12.4"
  }
 },
 "nbformat": 4,
 "nbformat_minor": 2
}
