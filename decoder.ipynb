{
 "cells": [
  {
   "cell_type": "code",
   "execution_count": null,
   "metadata": {},
   "outputs": [],
   "source": [
    "%matplotlib widget"
   ]
  },
  {
   "cell_type": "code",
   "execution_count": null,
   "metadata": {},
   "outputs": [],
   "source": [
    "import numpy as np\n",
    "import matplotlib.pyplot as plt\n",
    "\n",
    "import seaborn as sns\n",
    "rocket = sns.color_palette(\"rocket\", as_cmap=True)\n",
    "\n",
    "plt.rcParams[\"animation.html\"] = \"jshtml\"\n",
    "plt.rcParams['figure.dpi'] = 150\n",
    "plt.ioff()\n",
    "\n",
    "from tqdm.notebook import tqdm\n",
    "from toric import *\n",
    "# from mwpm import *"
   ]
  },
  {
   "cell_type": "code",
   "execution_count": null,
   "metadata": {},
   "outputs": [],
   "source": [
    "# Simulation parameters\n",
    "\n",
    "L = 50 # Lattice size\n",
    "p_error = 0.06 # Error probability per spin\n",
    "η = 0.5 # Smoothing paramter for Jacobi method\n",
    "c = 10 # \"Field velocity\" - number of field updates per cycle\n",
    "T = 100 # Epochs"
   ]
  },
  {
   "cell_type": "code",
   "execution_count": null,
   "metadata": {},
   "outputs": [],
   "source": [
    "mystate = init_state(L, p_error)\n",
    "q_history, error_history = decoder_2D(mystate, T, c, η, history = True)\n",
    "print(mystate.N > 0 or logical_error(mystate.error))\n",
    "plot_evolution(q_history, error_history, trail = False)"
   ]
  },
  {
   "cell_type": "code",
   "execution_count": null,
   "metadata": {},
   "outputs": [],
   "source": [
    "fail_rate = np.ones((60, 60)) # L/2 - 1, c - 1\n",
    "shots = 100 # error per pixel is max. +/- 0.05"
   ]
  },
  {
   "cell_type": "code",
   "execution_count": null,
   "metadata": {},
   "outputs": [],
   "source": [
    "for c in tqdm(range(1, 61)):\n",
    "    for L in range(2, 122, 2):\n",
    "        T = 10 * L\n",
    "        fails = 0\n",
    "        for _ in range(shots):\n",
    "            mystate = init_state(L, p_error)\n",
    "            decoder_2D(mystate, T, c, η, history = False)\n",
    "            fails += (mystate.N > 0 or logical_error(mystate.error))\n",
    "        fail_rate[L // 2 - 1, c - 1] = fails / shots\n",
    "\n",
    "np.save(\"fail_rate.npy\", fail_rate)"
   ]
  },
  {
   "cell_type": "code",
   "execution_count": null,
   "metadata": {},
   "outputs": [],
   "source": [
    "from matplotlib.colors import LogNorm\n",
    "fig, ax = plt.subplots()\n",
    "mat = ax.matshow(fail_rate.T, origin = 'lower', cmap = \"viridis_r\", norm = LogNorm())\n",
    "fig.colorbar(mat)\n",
    "ax.set_xlabel('System size $L/2-1$')\n",
    "ax.set_ylabel('Field velocity $c-1$')\n",
    "ax.xaxis.tick_bottom()\n",
    "ax.set_title('Failure rate')\n",
    "plt.savefig('fail_rate.png')\n",
    "plt.show()"
   ]
  },
  {
   "cell_type": "code",
   "execution_count": null,
   "metadata": {},
   "outputs": [],
   "source": []
  }
 ],
 "metadata": {
  "kernelspec": {
   "display_name": "toric",
   "language": "python",
   "name": "python3"
  },
  "language_info": {
   "codemirror_mode": {
    "name": "ipython",
    "version": 3
   },
   "file_extension": ".py",
   "mimetype": "text/x-python",
   "name": "python",
   "nbconvert_exporter": "python",
   "pygments_lexer": "ipython3",
   "version": "3.12.4"
  }
 },
 "nbformat": 4,
 "nbformat_minor": 2
}
