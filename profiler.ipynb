{
 "cells": [
  {
   "cell_type": "code",
   "execution_count": 1,
   "metadata": {},
   "outputs": [],
   "source": [
    "import numpy as np\n",
    "import cupy as cp\n",
    "\n",
    "from toric import State, pcm, mwpm, logical_error\n",
    "from toric import decoder_2D\n",
    "from pymatching import Matching"
   ]
  },
  {
   "cell_type": "code",
   "execution_count": 2,
   "metadata": {},
   "outputs": [],
   "source": [
    "# Simulation parameters\n",
    "\n",
    "N = 1000 # Shots\n",
    "L = 100 # Lattice size\n",
    "p_error = 0.004 # Error probability per spin\n",
    "η = 0.1 # Smoothing paramter for Jacobi method\n",
    "c = 16 # \"Field velocity\" - number of field updates per cycle\n",
    "T = L # Epochs\n",
    "\n",
    "matching = Matching(pcm(L))"
   ]
  },
  {
   "cell_type": "code",
   "execution_count": 3,
   "metadata": {},
   "outputs": [
    {
     "data": {
      "text/plain": [
       "0.0"
      ]
     },
     "execution_count": 3,
     "metadata": {},
     "output_type": "execute_result"
    }
   ],
   "source": [
    "state = State(N, L)\n",
    "decoder_2D(state, T, c, η, p_error)\n",
    "x_correction, y_correction = mwpm(matching, state.q)\n",
    "np.mean(logical_error(state.x_error.get() ^ x_correction, state.y_error.get() ^ y_correction))"
   ]
  },
  {
   "cell_type": "code",
   "execution_count": 4,
   "metadata": {},
   "outputs": [
    {
     "name": "stdout",
     "output_type": "stream",
     "text": [
      "266 μs ± 1.32 μs per loop (mean ± std. dev. of 7 runs, 1,000 loops each)\n",
      "16.1 s ± 143 ms per loop (mean ± std. dev. of 7 runs, 1 loop each)\n",
      "729 ms ± 47.3 ms per loop (mean ± std. dev. of 7 runs, 1 loop each)\n",
      "73.6 ms ± 3.46 ms per loop (mean ± std. dev. of 7 runs, 10 loops each)\n"
     ]
    }
   ],
   "source": [
    "%timeit state = State(N, L)\n",
    "%timeit decoder_2D(state, T, c, η, p_error)\n",
    "%timeit x_correction, y_correction = mwpm(matching, state.q)\n",
    "%timeit np.mean(logical_error(state.x_error.get() ^ x_correction, state.y_error.get() ^ y_correction))"
   ]
  }
 ],
 "metadata": {
  "kernelspec": {
   "display_name": "Python 3 (ipykernel)",
   "language": "python",
   "name": "python3"
  },
  "language_info": {
   "codemirror_mode": {
    "name": "ipython",
    "version": 3
   },
   "file_extension": ".py",
   "mimetype": "text/x-python",
   "name": "python",
   "nbconvert_exporter": "python",
   "pygments_lexer": "ipython3",
   "version": "3.12.4"
  }
 },
 "nbformat": 4,
 "nbformat_minor": 4
}
