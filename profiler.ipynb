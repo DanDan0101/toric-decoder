{
 "cells": [
  {
   "cell_type": "code",
   "execution_count": 1,
   "metadata": {},
   "outputs": [],
   "source": [
    "import numpy as np\n",
    "import cupy as cp\n",
    "\n",
    "from tqdm.notebook import tqdm\n",
    "from time import time\n",
    "\n",
    "from toric import *\n",
    "from pymatching import Matching"
   ]
  },
  {
   "cell_type": "code",
   "execution_count": 2,
   "metadata": {},
   "outputs": [],
   "source": [
    "# Simulation parameters\n",
    "\n",
    "N = 100 # Shots\n",
    "L = 100 # Lattice size\n",
    "p_error = 0.004 # Error probability per spin\n",
    "η = 0.1 # Smoothing paramter for Jacobi method\n",
    "c = 16 # \"Field velocity\" - number of field updates per cycle\n",
    "T = L # Epochs\n",
    "\n",
    "matching = Matching(pcm(L))"
   ]
  },
  {
   "cell_type": "code",
   "execution_count": 3,
   "metadata": {},
   "outputs": [
    {
     "data": {
      "text/plain": [
       "array(0.)"
      ]
     },
     "execution_count": 3,
     "metadata": {},
     "output_type": "execute_result"
    }
   ],
   "source": [
    "state = State(N, L)\n",
    "for _ in range(T):\n",
    "    if p_error > 0:\n",
    "        state.add_errors(p_error)\n",
    "    for _ in range(c):\n",
    "        state.update_field(η)\n",
    "    state.update_anyon()\n",
    "x_correction, y_correction = mwpm(matching, state.q)\n",
    "cp.mean(logical_error(state.x_error ^ x_correction, state.y_error ^ y_correction))"
   ]
  },
  {
   "cell_type": "code",
   "execution_count": 4,
   "metadata": {},
   "outputs": [
    {
     "data": {
      "application/vnd.jupyter.widget-view+json": {
       "model_id": "3aac230c518e44f187f50ffd13d82989",
       "version_major": 2,
       "version_minor": 0
      },
      "text/plain": [
       "  0%|          | 0/100 [00:00<?, ?it/s]"
      ]
     },
     "metadata": {},
     "output_type": "display_data"
    },
    {
     "name": "stdout",
     "output_type": "stream",
     "text": [
      "[0.0004322  0.00106506 0.00019237 0.00603618 0.05899534 0.00115001]\n"
     ]
    }
   ],
   "source": [
    "timings = np.zeros((100, 6))\n",
    "for i in tqdm(range(100)):\n",
    "    t0 = time()\n",
    "    state = State(N, L)\n",
    "    timings[i, 0] = time() - t0\n",
    "    for _ in range(T):\n",
    "        t0 = time()\n",
    "        state.add_errors(p_error)\n",
    "        timings[i, 1] += (time() - t0) / T\n",
    "        for _ in range(c):\n",
    "            t0 = time()\n",
    "            state.update_field(η)\n",
    "            timings[i, 2] += (time() - t0) / T / c\n",
    "        t0 = time()\n",
    "        state.update_anyon()\n",
    "        timings[i, 3] += (time() - t0) / T\n",
    "    t0 = time()\n",
    "    x_correction, y_correction = mwpm(matching, state.q)\n",
    "    timings[i, 4] = time() - t0\n",
    "    t0 = time()\n",
    "    cp.mean(logical_error(state.x_error ^ x_correction, state.y_error ^ y_correction))\n",
    "    timings[i, 5] = time() - t0\n",
    "timings = timings.mean(axis = 0)\n",
    "print(timings)"
   ]
  },
  {
   "cell_type": "code",
   "execution_count": 4,
   "metadata": {},
   "outputs": [
    {
     "name": "stdout",
     "output_type": "stream",
     "text": [
      "268 μs ± 26.3 μs per loop (mean ± std. dev. of 7 runs, 1,000 loops each)\n",
      "6.47 ms ± 68.7 μs per loop (mean ± std. dev. of 7 runs, 100 loops each)\n",
      "3.72 ms ± 40.7 μs per loop (mean ± std. dev. of 7 runs, 1,000 loops each)\n",
      "16.6 ms ± 659 μs per loop (mean ± std. dev. of 7 runs, 1 loop each)\n",
      "6.89 s ± 64.3 ms per loop (mean ± std. dev. of 7 runs, 1 loop each)\n",
      "1.21 ms ± 98.4 μs per loop (mean ± std. dev. of 7 runs, 100 loops each)\n"
     ]
    }
   ],
   "source": [
    "%timeit state = State(N, L)\n",
    "%timeit state.add_errors(p_error)\n",
    "%timeit state.update_field(η)\n",
    "%timeit state.update_anyon()\n",
    "%timeit x_correction, y_correction = mwpm(matching, state.q)\n",
    "%timeit np.mean(logical_error(state.x_error ^ x_correction, state.y_error ^ y_correction))"
   ]
  }
 ],
 "metadata": {
  "kernelspec": {
   "display_name": "Python 3 (ipykernel)",
   "language": "python",
   "name": "python3"
  },
  "language_info": {
   "codemirror_mode": {
    "name": "ipython",
    "version": 3
   },
   "file_extension": ".py",
   "mimetype": "text/x-python",
   "name": "python",
   "nbconvert_exporter": "python",
   "pygments_lexer": "ipython3",
   "version": "3.12.4"
  }
 },
 "nbformat": 4,
 "nbformat_minor": 4
}
