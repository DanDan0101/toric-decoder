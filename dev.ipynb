{
 "cells": [
  {
   "cell_type": "markdown",
   "metadata": {},
   "source": [
    "# Toric Decoder\n",
    "Apply the [2D decoder](https://arxiv.org/abs/1406.2338), followed by [minimum-weight perfect matching](https://arxiv.org/abs/2303.15933), on the toric code with side length $L$. We consider i.i.d. $X$ errors on the qubits (bonds), and work with $m$ anyons (plaquettes). The errors are plotted on the dual lattice by default.\n",
    "## 2D Decoder\n",
    "At each time step out of $T=L$ total, perform the following steps:\n",
    "1. Make an $X$ error on each qubit with probability $p=0.05$.\n",
    "2. Perform $c$ field updates, according to the following rule:$$\\phi\\mapsto\\phi+\\frac\\eta4\\nabla^2\\phi+q$$Where $\\phi$ is the auxillary field, $\\eta=0.1$ is the Jacobi smoothing parameter, and $q$ is the anyon density with unit mass $-\\frac4\\eta$. Take $4\\pi G=1$, so that $\\nabla^2\\phi=\\rho$.\n",
    "3. For each anyon, move it its highest-$\\phi$ neighboring cell with probability $\\frac12$."
   ]
  },
  {
   "cell_type": "code",
   "execution_count": 6,
   "metadata": {},
   "outputs": [
    {
     "name": "stdout",
     "output_type": "stream",
     "text": [
      "306\n"
     ]
    }
   ],
   "source": [
    "# %matplotlib widget\n",
    "\n",
    "import numpy as np\n",
    "import cupy as cp\n",
    "mempool = cp.get_default_memory_pool()\n",
    "import subprocess as sp\n",
    "import os\n",
    "# from tqdm.notebook import tqdm\n",
    "\n",
    "from toric import State, pcm, mwpm, logical_error\n",
    "from toric import decoder_2D\n",
    "from pymatching import Matching\n",
    "\n",
    "# import matplotlib.pyplot as plt\n",
    "# plt.rcParams['figure.dpi'] = 150\n",
    "\n",
    "def get_gpu_memory():\n",
    "    command = \"nvidia-smi --query-gpu=memory.used --format=csv\"\n",
    "    memory_used_info = sp.check_output(command.split()).decode('ascii').split('\\n')[:-1][1:]\n",
    "    memory_used_values = [int(x.split()[0]) for x in memory_used_info]\n",
    "    return memory_used_values[0]\n",
    "\n",
    "memory_baseline = get_gpu_memory()\n",
    "print(memory_baseline)"
   ]
  },
  {
   "cell_type": "code",
   "execution_count": 7,
   "metadata": {},
   "outputs": [],
   "source": [
    "# Simulation parameters\n",
    "\n",
    "N = 1000 # Shots\n",
    "L = 100 # Lattice size\n",
    "p_error = 0.004 # Error probability per spin\n",
    "η = 0.1 # Smoothing paramter for Jacobi method\n",
    "c = 16 # \"Field velocity\" - number of field updates per cycle\n",
    "T = L # Epochs\n",
    "\n",
    "matching = Matching(pcm(L))"
   ]
  },
  {
   "cell_type": "code",
   "execution_count": 8,
   "metadata": {},
   "outputs": [],
   "source": [
    "state = State(N, L)"
   ]
  },
  {
   "cell_type": "code",
   "execution_count": 9,
   "metadata": {},
   "outputs": [
    {
     "name": "stdout",
     "output_type": "stream",
     "text": [
      "Memory usage: 40.00 MiB (expected 66.76 MiB, reported 181.20 MiB)\n"
     ]
    }
   ],
   "source": [
    "expected = np.sum([a.nbytes for a in state]) / 1024**2\n",
    "reported = mempool.total_bytes() / 1024**2\n",
    "actual = get_gpu_memory() - memory_baseline\n",
    "print(f\"Memory usage: {actual:.2f} MiB (expected {expected:.2f} MiB, reported {reported:.2f} MiB)\")"
   ]
  },
  {
   "cell_type": "code",
   "execution_count": 10,
   "metadata": {},
   "outputs": [
    {
     "ename": "OutOfMemoryError",
     "evalue": "Out of memory allocating 80,000,000 bytes (allocated so far: 190,002,176 bytes, limit set to: 209,715,200 bytes).",
     "output_type": "error",
     "traceback": [
      "\u001b[1;31m---------------------------------------------------------------------------\u001b[0m",
      "\u001b[1;31mOutOfMemoryError\u001b[0m                          Traceback (most recent call last)",
      "Cell \u001b[1;32mIn[10], line 1\u001b[0m\n\u001b[1;32m----> 1\u001b[0m decoder_2D(state, T, c, η, p_error)\n",
      "File \u001b[1;32mc:\\Users\\danie\\Documents\\GitHub\\toric-decoder\\toric.py:150\u001b[0m, in \u001b[0;36mdecoder_2D\u001b[1;34m(state, T, c, η, p_error)\u001b[0m\n\u001b[0;32m    148\u001b[0m \u001b[38;5;28;01mfor\u001b[39;00m _ \u001b[38;5;129;01min\u001b[39;00m \u001b[38;5;28mrange\u001b[39m(T):\n\u001b[0;32m    149\u001b[0m     \u001b[38;5;28;01mif\u001b[39;00m p_error \u001b[38;5;241m>\u001b[39m \u001b[38;5;241m0\u001b[39m:\n\u001b[1;32m--> 150\u001b[0m         state\u001b[38;5;241m.\u001b[39madd_errors(p_error)\n\u001b[0;32m    151\u001b[0m     \u001b[38;5;28;01mfor\u001b[39;00m _ \u001b[38;5;129;01min\u001b[39;00m \u001b[38;5;28mrange\u001b[39m(c):\n\u001b[0;32m    152\u001b[0m         state\u001b[38;5;241m.\u001b[39mupdate_field(η)\n",
      "File \u001b[1;32mc:\\Users\\danie\\Documents\\GitHub\\toric-decoder\\toric.py:62\u001b[0m, in \u001b[0;36mState.add_errors\u001b[1;34m(self, p_error)\u001b[0m\n\u001b[0;32m     51\u001b[0m \u001b[38;5;28;01mdef\u001b[39;00m \u001b[38;5;21madd_errors\u001b[39m(\u001b[38;5;28mself\u001b[39m, p_error: \u001b[38;5;28mfloat\u001b[39m) \u001b[38;5;241m-\u001b[39m\u001b[38;5;241m>\u001b[39m \u001b[38;5;28;01mNone\u001b[39;00m:\n\u001b[0;32m     52\u001b[0m \u001b[38;5;250m    \u001b[39m\u001b[38;5;124;03m\"\"\"\u001b[39;00m\n\u001b[0;32m     53\u001b[0m \u001b[38;5;124;03m    Adds errors to the current state.\u001b[39;00m\n\u001b[0;32m     54\u001b[0m \n\u001b[1;32m   (...)\u001b[0m\n\u001b[0;32m     59\u001b[0m \u001b[38;5;124;03m    None\u001b[39;00m\n\u001b[0;32m     60\u001b[0m \u001b[38;5;124;03m    \"\"\"\u001b[39;00m\n\u001b[1;32m---> 62\u001b[0m     errors \u001b[38;5;241m=\u001b[39m (cp\u001b[38;5;241m.\u001b[39mrandom\u001b[38;5;241m.\u001b[39mrandom((\u001b[38;5;28mself\u001b[39m\u001b[38;5;241m.\u001b[39mN, \u001b[38;5;28mself\u001b[39m\u001b[38;5;241m.\u001b[39mL, \u001b[38;5;28mself\u001b[39m\u001b[38;5;241m.\u001b[39mL)) \u001b[38;5;241m<\u001b[39m p_error)\u001b[38;5;241m.\u001b[39mastype(cp\u001b[38;5;241m.\u001b[39muint8)\n\u001b[0;32m     63\u001b[0m     \u001b[38;5;28mself\u001b[39m\u001b[38;5;241m.\u001b[39mq \u001b[38;5;241m^\u001b[39m\u001b[38;5;241m=\u001b[39m correlate1d(errors, k, axis \u001b[38;5;241m=\u001b[39m \u001b[38;5;241m2\u001b[39m, mode \u001b[38;5;241m=\u001b[39m \u001b[38;5;124m'\u001b[39m\u001b[38;5;124mwrap\u001b[39m\u001b[38;5;124m'\u001b[39m) \u001b[38;5;241m%\u001b[39m \u001b[38;5;241m2\u001b[39m\n\u001b[0;32m     64\u001b[0m     \u001b[38;5;28mself\u001b[39m\u001b[38;5;241m.\u001b[39mx_error \u001b[38;5;241m^\u001b[39m\u001b[38;5;241m=\u001b[39m errors\n",
      "File \u001b[1;32mc:\\ProgramData\\Anaconda3\\envs\\toric\\Lib\\site-packages\\cupy\\random\\_sample.py:156\u001b[0m, in \u001b[0;36mrandom_sample\u001b[1;34m(size, dtype)\u001b[0m\n\u001b[0;32m    140\u001b[0m \u001b[38;5;250m\u001b[39m\u001b[38;5;124;03m\"\"\"Returns an array of random values over the interval ``[0, 1)``.\u001b[39;00m\n\u001b[0;32m    141\u001b[0m \n\u001b[0;32m    142\u001b[0m \u001b[38;5;124;03mThis is a variant of :func:`cupy.random.rand`.\u001b[39;00m\n\u001b[1;32m   (...)\u001b[0m\n\u001b[0;32m    153\u001b[0m \n\u001b[0;32m    154\u001b[0m \u001b[38;5;124;03m\"\"\"\u001b[39;00m\n\u001b[0;32m    155\u001b[0m rs \u001b[38;5;241m=\u001b[39m _generator\u001b[38;5;241m.\u001b[39mget_random_state()\n\u001b[1;32m--> 156\u001b[0m \u001b[38;5;28;01mreturn\u001b[39;00m rs\u001b[38;5;241m.\u001b[39mrandom_sample(size\u001b[38;5;241m=\u001b[39msize, dtype\u001b[38;5;241m=\u001b[39mdtype)\n",
      "File \u001b[1;32mc:\\ProgramData\\Anaconda3\\envs\\toric\\Lib\\site-packages\\cupy\\random\\_generator.py:629\u001b[0m, in \u001b[0;36mRandomState.random_sample\u001b[1;34m(self, size, dtype)\u001b[0m\n\u001b[0;32m    627\u001b[0m \u001b[38;5;28;01mif\u001b[39;00m size \u001b[38;5;129;01mis\u001b[39;00m \u001b[38;5;28;01mNone\u001b[39;00m:\n\u001b[0;32m    628\u001b[0m     size \u001b[38;5;241m=\u001b[39m ()\n\u001b[1;32m--> 629\u001b[0m out \u001b[38;5;241m=\u001b[39m \u001b[38;5;28mself\u001b[39m\u001b[38;5;241m.\u001b[39m_random_sample_raw(size, dtype)\n\u001b[0;32m    630\u001b[0m RandomState\u001b[38;5;241m.\u001b[39m_mod1_kernel(out)\n\u001b[0;32m    631\u001b[0m \u001b[38;5;28;01mreturn\u001b[39;00m out\n",
      "File \u001b[1;32mc:\\ProgramData\\Anaconda3\\envs\\toric\\Lib\\site-packages\\cupy\\random\\_generator.py:611\u001b[0m, in \u001b[0;36mRandomState._random_sample_raw\u001b[1;34m(self, size, dtype)\u001b[0m\n\u001b[0;32m    608\u001b[0m \u001b[38;5;28;01mfrom\u001b[39;00m \u001b[38;5;21;01mcupy_backends\u001b[39;00m\u001b[38;5;21;01m.\u001b[39;00m\u001b[38;5;21;01mcuda\u001b[39;00m\u001b[38;5;21;01m.\u001b[39;00m\u001b[38;5;21;01mlibs\u001b[39;00m \u001b[38;5;28;01mimport\u001b[39;00m curand\n\u001b[0;32m    610\u001b[0m dtype \u001b[38;5;241m=\u001b[39m _check_and_get_dtype(dtype)\n\u001b[1;32m--> 611\u001b[0m out \u001b[38;5;241m=\u001b[39m cupy\u001b[38;5;241m.\u001b[39mempty(size, dtype\u001b[38;5;241m=\u001b[39mdtype)\n\u001b[0;32m    612\u001b[0m \u001b[38;5;28;01mif\u001b[39;00m dtype\u001b[38;5;241m.\u001b[39mchar \u001b[38;5;241m==\u001b[39m \u001b[38;5;124m'\u001b[39m\u001b[38;5;124mf\u001b[39m\u001b[38;5;124m'\u001b[39m:\n\u001b[0;32m    613\u001b[0m     func \u001b[38;5;241m=\u001b[39m curand\u001b[38;5;241m.\u001b[39mgenerateUniform\n",
      "File \u001b[1;32mc:\\ProgramData\\Anaconda3\\envs\\toric\\Lib\\site-packages\\cupy\\_creation\\basic.py:31\u001b[0m, in \u001b[0;36mempty\u001b[1;34m(shape, dtype, order)\u001b[0m\n\u001b[0;32m     12\u001b[0m \u001b[38;5;28;01mdef\u001b[39;00m \u001b[38;5;21mempty\u001b[39m(\n\u001b[0;32m     13\u001b[0m         shape: _ShapeLike,\n\u001b[0;32m     14\u001b[0m         dtype: DTypeLike \u001b[38;5;241m=\u001b[39m \u001b[38;5;28mfloat\u001b[39m,\n\u001b[0;32m     15\u001b[0m         order: _OrderCF \u001b[38;5;241m=\u001b[39m \u001b[38;5;124m'\u001b[39m\u001b[38;5;124mC\u001b[39m\u001b[38;5;124m'\u001b[39m,\n\u001b[0;32m     16\u001b[0m ) \u001b[38;5;241m-\u001b[39m\u001b[38;5;241m>\u001b[39m NDArray[Any]:\n\u001b[0;32m     17\u001b[0m \u001b[38;5;250m    \u001b[39m\u001b[38;5;124;03m\"\"\"Returns an array without initializing the elements.\u001b[39;00m\n\u001b[0;32m     18\u001b[0m \n\u001b[0;32m     19\u001b[0m \u001b[38;5;124;03m    Args:\u001b[39;00m\n\u001b[1;32m   (...)\u001b[0m\n\u001b[0;32m     29\u001b[0m \n\u001b[0;32m     30\u001b[0m \u001b[38;5;124;03m    \"\"\"\u001b[39;00m\n\u001b[1;32m---> 31\u001b[0m     \u001b[38;5;28;01mreturn\u001b[39;00m cupy\u001b[38;5;241m.\u001b[39mndarray(shape, dtype, order\u001b[38;5;241m=\u001b[39morder)\n",
      "File \u001b[1;32mcupy\\_core\\core.pyx:135\u001b[0m, in \u001b[0;36mcupy._core.core.ndarray.__new__\u001b[1;34m()\u001b[0m\n",
      "File \u001b[1;32mcupy\\_core\\core.pyx:223\u001b[0m, in \u001b[0;36mcupy._core.core._ndarray_base._init\u001b[1;34m()\u001b[0m\n",
      "File \u001b[1;32mcupy\\cuda\\memory.pyx:738\u001b[0m, in \u001b[0;36mcupy.cuda.memory.alloc\u001b[1;34m()\u001b[0m\n",
      "File \u001b[1;32mcupy\\cuda\\memory.pyx:1424\u001b[0m, in \u001b[0;36mcupy.cuda.memory.MemoryPool.malloc\u001b[1;34m()\u001b[0m\n",
      "File \u001b[1;32mcupy\\cuda\\memory.pyx:1445\u001b[0m, in \u001b[0;36mcupy.cuda.memory.MemoryPool.malloc\u001b[1;34m()\u001b[0m\n",
      "File \u001b[1;32mcupy\\cuda\\memory.pyx:1116\u001b[0m, in \u001b[0;36mcupy.cuda.memory.SingleDeviceMemoryPool.malloc\u001b[1;34m()\u001b[0m\n",
      "File \u001b[1;32mcupy\\cuda\\memory.pyx:1137\u001b[0m, in \u001b[0;36mcupy.cuda.memory.SingleDeviceMemoryPool._malloc\u001b[1;34m()\u001b[0m\n",
      "File \u001b[1;32mcupy\\cuda\\memory.pyx:1344\u001b[0m, in \u001b[0;36mcupy.cuda.memory.SingleDeviceMemoryPool._try_malloc\u001b[1;34m()\u001b[0m\n",
      "File \u001b[1;32mcupy\\cuda\\memory.pyx:1356\u001b[0m, in \u001b[0;36mcupy.cuda.memory.SingleDeviceMemoryPool._try_malloc\u001b[1;34m()\u001b[0m\n",
      "\u001b[1;31mOutOfMemoryError\u001b[0m: Out of memory allocating 80,000,000 bytes (allocated so far: 190,002,176 bytes, limit set to: 209,715,200 bytes)."
     ]
    }
   ],
   "source": [
    "decoder_2D(state, T, c, η, p_error)"
   ]
  },
  {
   "cell_type": "code",
   "execution_count": null,
   "metadata": {},
   "outputs": [
    {
     "name": "stdout",
     "output_type": "stream",
     "text": [
      "Memory usage: 582.00 MiB (expected 66.76 MiB, reported 572.21 MiB)\n"
     ]
    }
   ],
   "source": [
    "expected = np.sum([a.nbytes for a in state]) / 1024**2\n",
    "reported = mempool.total_bytes() / 1024**2\n",
    "actual = get_gpu_memory() - memory_baseline\n",
    "print(f\"Memory usage: {actual:.2f} MiB (expected {expected:.2f} MiB, reported {reported:.2f} MiB)\")"
   ]
  },
  {
   "cell_type": "code",
   "execution_count": null,
   "metadata": {},
   "outputs": [
    {
     "data": {
      "text/plain": [
       "array(0.)"
      ]
     },
     "execution_count": 7,
     "metadata": {},
     "output_type": "execute_result"
    }
   ],
   "source": [
    "x_correction, y_correction = mwpm(matching, state.q)\n",
    "logical_error(x_correction ^ state.x_error, y_correction ^ state.y_error).mean()"
   ]
  },
  {
   "cell_type": "code",
   "execution_count": null,
   "metadata": {},
   "outputs": [
    {
     "name": "stdout",
     "output_type": "stream",
     "text": [
      "Memory usage: 582.00 MiB (expected 85.83 MiB, reported 572.21 MiB)\n"
     ]
    }
   ],
   "source": [
    "expected = np.sum([a.nbytes for a in state])*9/7 / 1024**2\n",
    "reported = mempool.total_bytes() / 1024**2\n",
    "actual = get_gpu_memory() - memory_baseline\n",
    "print(f\"Memory usage: {actual:.2f} MiB (expected {expected:.2f} MiB, reported {reported:.2f} MiB)\")"
   ]
  },
  {
   "cell_type": "code",
   "execution_count": null,
   "metadata": {},
   "outputs": [],
   "source": [
    "mempool.free_all_blocks()"
   ]
  },
  {
   "cell_type": "code",
   "execution_count": null,
   "metadata": {},
   "outputs": [
    {
     "name": "stdout",
     "output_type": "stream",
     "text": [
      "Memory usage: 160.00 MiB (expected 85.83 MiB, reported 152.59 MiB)\n"
     ]
    }
   ],
   "source": [
    "expected = np.sum([a.nbytes for a in state])*9/7 / 1024**2\n",
    "reported = mempool.total_bytes() / 1024**2\n",
    "actual = get_gpu_memory() - memory_baseline\n",
    "print(f\"Memory usage: {actual:.2f} MiB (expected {expected:.2f} MiB, reported {reported:.2f} MiB)\")"
   ]
  },
  {
   "cell_type": "code",
   "execution_count": null,
   "metadata": {},
   "outputs": [],
   "source": []
  }
 ],
 "metadata": {
  "kernelspec": {
   "display_name": "Python 3 (ipykernel)",
   "language": "python",
   "name": "python3"
  },
  "language_info": {
   "codemirror_mode": {
    "name": "ipython",
    "version": 3
   },
   "file_extension": ".py",
   "mimetype": "text/x-python",
   "name": "python",
   "nbconvert_exporter": "python",
   "pygments_lexer": "ipython3",
   "version": "3.12.4"
  }
 },
 "nbformat": 4,
 "nbformat_minor": 4
}
