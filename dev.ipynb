{
 "cells": [
  {
   "cell_type": "code",
   "execution_count": 1,
   "metadata": {},
   "outputs": [],
   "source": [
    "import numpy as np\n",
    "import cupy as cp\n",
    "\n",
    "from toric_parallel_nojit import State as ParallelNojitState\n",
    "from toric_parallel_nojit import mwpm as parallel_nojit_mwpm\n",
    "# from toric_parallel_nojit import logical_error as parallel_nojit_logical_error\n",
    "\n",
    "from toric_parallel import State as ParallelState\n",
    "from toric_parallel import mwpm as parallel_mwpm\n",
    "# from toric_parallel import logical_error as parallel_logical_error\n",
    "\n",
    "from toric_nojit import State as NojitState\n",
    "from toric_nojit import mwpm as nojit_mwpm\n",
    "# from toric_nojit import logical_error as nojit_logical_error\n",
    "\n",
    "from toric_gpu import State as GPUState\n",
    "from toric_gpu import mwpm as gpu_mwpm\n",
    "# from toric_gpu import logical_error as gpu_logical_error\n",
    "\n",
    "from toric import State, pcm, mwpm, logical_error\n",
    "\n",
    "from pymatching import Matching\n",
    "from tqdm.notebook import tqdm\n",
    "\n",
    "# Simulation parameters\n",
    "\n",
    "N = 100 # Number of samples\n",
    "L = 100 # Lattice size\n",
    "p_error = 0.005 # Error probability per spin\n",
    "η = 0.1 # Smoothing paramter for Jacobi method\n",
    "c = 16 # \"Field velocity\" - number of field updates per cycle\n",
    "T = 2 # Epochs\n",
    "\n",
    "matching = Matching(pcm(L))"
   ]
  },
  {
   "cell_type": "markdown",
   "metadata": {},
   "source": [
    "## No JIT, No Parallel"
   ]
  },
  {
   "cell_type": "code",
   "execution_count": 2,
   "metadata": {},
   "outputs": [
    {
     "name": "stdout",
     "output_type": "stream",
     "text": [
      "4.22 μs ± 277 ns per loop (mean ± std. dev. of 7 runs, 100,000 loops each)\n",
      "239 μs ± 10.3 μs per loop (mean ± std. dev. of 7 runs, 1,000 loops each)\n",
      "124 μs ± 1.29 μs per loop (mean ± std. dev. of 7 runs, 10,000 loops each)\n",
      "1.44 ms ± 44 μs per loop (mean ± std. dev. of 7 runs, 100 loops each)\n",
      "1.67 ms ± 164 μs per loop (mean ± std. dev. of 7 runs, 1,000 loops each)\n"
     ]
    }
   ],
   "source": [
    "# Initialize first\n",
    "\n",
    "state = NojitState(L)\n",
    "state.add_errors(p_error)\n",
    "state.update_field(η)\n",
    "state.update_anyon()\n",
    "nojit_mwpm(matching, state.q)\n",
    "\n",
    "%timeit state = NojitState(L)\n",
    "%timeit state.add_errors(p_error)\n",
    "%timeit state.update_field(η)\n",
    "%timeit state.update_anyon()\n",
    "%timeit nojit_mwpm(matching, state.q)"
   ]
  },
  {
   "cell_type": "markdown",
   "metadata": {},
   "source": [
    "## JIT, No Parallel"
   ]
  },
  {
   "cell_type": "code",
   "execution_count": 4,
   "metadata": {},
   "outputs": [
    {
     "name": "stdout",
     "output_type": "stream",
     "text": [
      "10.5 μs ± 460 ns per loop (mean ± std. dev. of 7 runs, 100,000 loops each)\n",
      "222 μs ± 9 μs per loop (mean ± std. dev. of 7 runs, 1,000 loops each)\n",
      "175 μs ± 7.14 μs per loop (mean ± std. dev. of 7 runs, 10,000 loops each)\n",
      "416 μs ± 28.7 μs per loop (mean ± std. dev. of 7 runs, 1,000 loops each)\n",
      "1.84 ms ± 87.3 μs per loop (mean ± std. dev. of 7 runs, 1,000 loops each)\n"
     ]
    }
   ],
   "source": [
    "# Initialize first\n",
    "\n",
    "state = State(L)\n",
    "state.add_errors(p_error)\n",
    "state.update_field(η)\n",
    "state.update_anyon() # the only thing that's faster when JITed\n",
    "mwpm(matching, state.q)\n",
    "\n",
    "%timeit state = State(L)\n",
    "%timeit state.add_errors(p_error)\n",
    "%timeit state.update_field(η)\n",
    "%timeit state.update_anyon()\n",
    "%timeit mwpm(matching, state.q)"
   ]
  },
  {
   "cell_type": "markdown",
   "metadata": {},
   "source": [
    "## No JIT, Parallel"
   ]
  },
  {
   "cell_type": "code",
   "execution_count": 2,
   "metadata": {},
   "outputs": [
    {
     "name": "stdout",
     "output_type": "stream",
     "text": [
      "606 μs ± 39.2 μs per loop (mean ± std. dev. of 7 runs, 1,000 loops each)\n",
      "35.8 ms ± 1.8 ms per loop (mean ± std. dev. of 7 runs, 10 loops each)\n",
      "13.3 ms ± 907 μs per loop (mean ± std. dev. of 7 runs, 100 loops each)\n",
      "The slowest run took 4.14 times longer than the fastest. This could mean that an intermediate result is being cached.\n",
      "2.2 s ± 1.14 s per loop (mean ± std. dev. of 7 runs, 1 loop each)\n",
      "433 ms ± 32.2 ms per loop (mean ± std. dev. of 7 runs, 1 loop each)\n"
     ]
    }
   ],
   "source": [
    "# Initialize first\n",
    "\n",
    "state = ParallelNojitState(N, L)\n",
    "state.add_errors(p_error) # 37.8 ms\n",
    "state.update_field(η)\n",
    "state.update_anyon() # Slowest part, big for loop\n",
    "parallel_nojit_mwpm(matching, state.q)\n",
    "\n",
    "%timeit state = ParallelNojitState(N, L)\n",
    "%timeit state.add_errors(p_error)\n",
    "%timeit state.update_field(η)\n",
    "%timeit state.update_anyon()\n",
    "%timeit parallel_nojit_mwpm(matching, state.q)"
   ]
  },
  {
   "cell_type": "markdown",
   "metadata": {},
   "source": [
    "## JIT, Parallel"
   ]
  },
  {
   "cell_type": "code",
   "execution_count": 6,
   "metadata": {},
   "outputs": [
    {
     "name": "stdout",
     "output_type": "stream",
     "text": [
      "1.26 ms ± 30.6 μs per loop (mean ± std. dev. of 7 runs, 1,000 loops each)\n",
      "31.4 ms ± 972 μs per loop (mean ± std. dev. of 7 runs, 10 loops each)\n"
     ]
    }
   ],
   "source": [
    "# Initialize first\n",
    "\n",
    "state = ParallelState(N, L)\n",
    "state.add_errors(p_error)\n",
    "state.update_field(η) # This is the slowest part <-> laplace <-> roll\n",
    "state.update_anyon()\n",
    "parallel_mwpm(matching, state.q)\n",
    "\n",
    "%timeit state = ParallelState(N, L)\n",
    "%timeit state.add_errors(p_error)\n",
    "%timeit state.update_field(η)\n",
    "%timeit state.update_anyon()\n",
    "%timeit parallel_mwpm(matching, state.q)"
   ]
  },
  {
   "cell_type": "markdown",
   "metadata": {},
   "source": [
    "## GPU"
   ]
  },
  {
   "cell_type": "code",
   "execution_count": 5,
   "metadata": {},
   "outputs": [
    {
     "name": "stdout",
     "output_type": "stream",
     "text": [
      "2.5 ms ± 10.8 μs per loop (mean ± std. dev. of 7 runs, 1,000 loops each)\n",
      "2.54 ms ± 912 μs per loop (mean ± std. dev. of 7 runs, 100 loops each)\n",
      "780 μs ± 118 μs per loop (mean ± std. dev. of 7 runs, 1,000 loops each)\n",
      "3.94 ms ± 620 μs per loop (mean ± std. dev. of 7 runs, 100 loops each)\n"
     ]
    }
   ],
   "source": [
    "# state = GPUState(10, L)\n",
    "# state.add_errors(0.01)\n",
    "# state.update_field(η)\n",
    "# state.update_anyon()\n",
    "# # state.update_anyon_2()\n",
    "# gpu_mwpm(matching, state.q.get())\n",
    "\n",
    "# Initialize first\n",
    "\n",
    "%timeit state = GPUState(10000, L)\n",
    "%timeit state.add_errors(p_error)\n",
    "%timeit state.update_field(η)\n",
    "%timeit state.update_anyon()\n",
    "# %timeit state.update_anyon_2()\n",
    "# %timeit gpu_mwpm(matching, state.q.get())"
   ]
  },
  {
   "cell_type": "code",
   "execution_count": null,
   "metadata": {},
   "outputs": [],
   "source": []
  }
 ],
 "metadata": {
  "kernelspec": {
   "display_name": "toric",
   "language": "python",
   "name": "python3"
  },
  "language_info": {
   "codemirror_mode": {
    "name": "ipython",
    "version": 3
   },
   "file_extension": ".py",
   "mimetype": "text/x-python",
   "name": "python",
   "nbconvert_exporter": "python",
   "pygments_lexer": "ipython3",
   "version": "3.12.4"
  }
 },
 "nbformat": 4,
 "nbformat_minor": 2
}
