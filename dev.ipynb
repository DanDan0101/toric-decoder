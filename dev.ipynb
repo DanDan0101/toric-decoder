{
 "cells": [
  {
   "cell_type": "code",
   "execution_count": 1,
   "metadata": {},
   "outputs": [],
   "source": [
    "import numpy as np\n",
    "from toric_parallel import *\n",
    "from pymatching import Matching\n",
    "from tqdm.notebook import tqdm"
   ]
  },
  {
   "cell_type": "code",
   "execution_count": 2,
   "metadata": {},
   "outputs": [],
   "source": [
    "# Simulation parameters\n",
    "\n",
    "N = 100 # Number of samples\n",
    "L = 100 # Lattice size\n",
    "p_error = 0.005 # Error probability per spin\n",
    "η = 0.1 # Smoothing paramter for Jacobi method\n",
    "c = 16 # \"Field velocity\" - number of field updates per cycle\n",
    "T = L # Epochs\n",
    "\n",
    "matching = Matching(pcm(L))"
   ]
  },
  {
   "cell_type": "code",
   "execution_count": 3,
   "metadata": {},
   "outputs": [
    {
     "name": "stdout",
     "output_type": "stream",
     "text": [
      "[False]\n"
     ]
    }
   ],
   "source": [
    "mystate = State(1, L)\n",
    "decoder_2D(mystate, T, c, η, p_error)\n",
    "x_correction, y_correction = mwpm(matching, mystate.q)\n",
    "print(logical_error(mystate.x_error ^ x_correction, mystate.y_error ^ y_correction))"
   ]
  },
  {
   "cell_type": "code",
   "execution_count": 4,
   "metadata": {},
   "outputs": [
    {
     "data": {
      "application/vnd.jupyter.widget-view+json": {
       "model_id": "69c25bded4c7464a9bf5048c41832bdf",
       "version_major": 2,
       "version_minor": 0
      },
      "text/plain": [
       "  0%|          | 0/100 [00:00<?, ?it/s]"
      ]
     },
     "metadata": {},
     "output_type": "display_data"
    },
    {
     "name": "stdout",
     "output_type": "stream",
     "text": [
      "Check 1\n",
      "Tick\n",
      "Tick\n",
      "Tick\n",
      "Tick\n",
      "Tick\n",
      "Tick\n",
      "Tick\n",
      "Tick\n",
      "Tick\n",
      "Tick\n",
      "Tick\n",
      "Tick\n",
      "Tick\n",
      "Tick\n",
      "Tick\n",
      "Tick\n",
      "Check 3\n",
      "Check 1\n",
      "Tick\n",
      "Tick\n",
      "Tick\n",
      "Tick\n",
      "Tick\n",
      "Tick\n",
      "Tick\n",
      "Tick\n",
      "Tick\n",
      "Tick\n",
      "Tick\n",
      "Tick\n",
      "Tick\n",
      "Tick\n",
      "Tick\n",
      "Tick\n",
      "Check 3\n",
      "Check 1\n",
      "Tick\n",
      "Tick\n",
      "Tick\n",
      "Tick\n",
      "Tick\n",
      "Tick\n",
      "Tick\n",
      "Tick\n",
      "Tick\n",
      "Tick\n",
      "Tick\n",
      "Tick\n",
      "Tick\n",
      "Tick\n",
      "Tick\n",
      "Tick\n",
      "Check 3\n",
      "Check 1\n",
      "Tick\n",
      "Tick\n",
      "Tick\n",
      "Tick\n",
      "Tick\n",
      "Tick\n",
      "Tick\n",
      "Tick\n",
      "Tick\n",
      "Tick\n",
      "Tick\n",
      "Tick\n",
      "Tick\n",
      "Tick\n",
      "Tick\n",
      "Tick\n",
      "Check 3\n",
      "Check 1\n",
      "Tick\n",
      "Tick\n",
      "Tick\n",
      "Tick\n",
      "Tick\n",
      "Tick\n",
      "Tick\n",
      "Tick\n",
      "Tick\n",
      "Tick\n",
      "Tick\n",
      "Tick\n",
      "Tick\n",
      "Tick\n",
      "Tick\n",
      "Tick\n",
      "Check 3\n"
     ]
    },
    {
     "ename": "",
     "evalue": "",
     "output_type": "error",
     "traceback": [
      "\u001b[1;31mCannot execute code, session has been disposed. Please try restarting the Kernel."
     ]
    },
    {
     "ename": "",
     "evalue": "",
     "output_type": "error",
     "traceback": [
      "\u001b[1;31mCannot execute code, session has been disposed. Please try restarting the Kernel. \n",
      "\u001b[1;31mView Jupyter <a href='command:jupyter.viewOutput'>log</a> for further details."
     ]
    }
   ],
   "source": [
    "state = State(100, L) # about 45 sec / it, about 30x slower than before\n",
    "for _ in tqdm(range(T)):\n",
    "        print(\"Check 1\")\n",
    "        if p_error > 0:\n",
    "            state.add_errors(p_error)\n",
    "        print(\"Check 2\")\n",
    "        for _ in range(c):\n",
    "            state.update_field(η)\n",
    "        print(\"Check 3\")\n",
    "        state.update_anyon()\n",
    "\n",
    "        if p_error == 0 and state.ρ == 0:\n",
    "            break"
   ]
  },
  {
   "cell_type": "code",
   "execution_count": null,
   "metadata": {},
   "outputs": [],
   "source": []
  }
 ],
 "metadata": {
  "kernelspec": {
   "display_name": "toric",
   "language": "python",
   "name": "python3"
  },
  "language_info": {
   "codemirror_mode": {
    "name": "ipython",
    "version": 3
   },
   "file_extension": ".py",
   "mimetype": "text/x-python",
   "name": "python",
   "nbconvert_exporter": "python",
   "pygments_lexer": "ipython3",
   "version": "3.12.4"
  }
 },
 "nbformat": 4,
 "nbformat_minor": 2
}
