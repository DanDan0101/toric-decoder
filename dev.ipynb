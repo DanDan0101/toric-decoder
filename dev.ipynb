{
 "cells": [
  {
   "cell_type": "markdown",
   "metadata": {},
   "source": [
    "# Toric Decoder\n",
    "Apply the [2D decoder](https://arxiv.org/abs/1406.2338), followed by [minimum-weight perfect matching](https://arxiv.org/abs/2303.15933), on the toric code with side length $L$. We consider i.i.d. $X$ errors on the qubits (bonds), and work with $m$ anyons (plaquettes). The errors are plotted on the dual lattice by default.\n",
    "## 2D Decoder\n",
    "At each time step out of $T=L$ total, perform the following steps:\n",
    "1. Make an $X$ error on each qubit with probability $p=0.05$.\n",
    "2. Perform $c$ field updates, according to the following rule:$$\\phi\\mapsto\\phi+\\frac\\eta4\\nabla^2\\phi+q$$Where $\\phi$ is the auxillary field, $\\eta=0.1$ is the Jacobi smoothing parameter, and $q$ is the anyon density with unit mass $-\\frac4\\eta$. Take $4\\pi G=1$, so that $\\nabla^2\\phi=\\rho$.\n",
    "3. For each anyon, move it its highest-$\\phi$ neighboring cell with probability $\\frac12$."
   ]
  },
  {
   "cell_type": "code",
   "execution_count": 1,
   "metadata": {},
   "outputs": [
    {
     "name": "stdout",
     "output_type": "stream",
     "text": [
      "128.97484799999998\n"
     ]
    }
   ],
   "source": [
    "# %matplotlib widget\n",
    "\n",
    "import numpy as np\n",
    "import cupy as cp\n",
    "mempool = cp.get_default_memory_pool()\n",
    "# import os\n",
    "# from tqdm.notebook import tqdm\n",
    "\n",
    "from toric import State, pcm, mwpm, logical_error\n",
    "from toric import decoder_2D\n",
    "from pymatching import Matching\n",
    "\n",
    "# import matplotlib.pyplot as plt\n",
    "# plt.rcParams['figure.dpi'] = 150\n",
    "\n",
    "from utils import get_gpu_memory\n",
    "\n",
    "memory_baseline = get_gpu_memory() * (1024/1000)**2 # MB\n",
    "print(memory_baseline)\n",
    "\n",
    "def gpu():\n",
    "    return get_gpu_memory() * (1024/1000)**2 - memory_baseline"
   ]
  },
  {
   "cell_type": "code",
   "execution_count": 2,
   "metadata": {},
   "outputs": [],
   "source": [
    "# Simulation parameters\n",
    "\n",
    "N = 5000 # Shots\n",
    "L = 200 # Lattice size\n",
    "p_error = 0.004 # Error probability per spin\n",
    "η = 0.1 # Smoothing paramter for Jacobi method\n",
    "c = 16 # \"Field velocity\" - number of field updates per cycle\n",
    "T = 2 # Epochs, set to 2 for fast debug\n",
    "\n",
    "matching = Matching(pcm(L))"
   ]
  },
  {
   "cell_type": "code",
   "execution_count": 3,
   "metadata": {},
   "outputs": [],
   "source": [
    "state = State(N, L)"
   ]
  },
  {
   "cell_type": "code",
   "execution_count": 4,
   "metadata": {},
   "outputs": [
    {
     "name": "stdout",
     "output_type": "stream",
     "text": [
      "Memory usage: 1405.09 MB (expected 1400.00 MB, reported 1402.36 MB)\n"
     ]
    }
   ],
   "source": [
    "expected = (N/1000)*(L**2/1000)*7\n",
    "reported = mempool.total_bytes() / 1000**2\n",
    "actual = gpu()\n",
    "print(f\"Memory usage: {actual:.2f} MB (expected {expected:.2f} MB, reported {reported:.2f} MB)\")"
   ]
  },
  {
   "cell_type": "code",
   "execution_count": 5,
   "metadata": {},
   "outputs": [],
   "source": [
    "decoder_2D(state, T, c, η, p_error)"
   ]
  },
  {
   "cell_type": "code",
   "execution_count": 6,
   "metadata": {},
   "outputs": [
    {
     "name": "stdout",
     "output_type": "stream",
     "text": [
      "Memory usage: 3208.64 MB (expected 3200.00 MB, reported 3202.36 MB)\n"
     ]
    }
   ],
   "source": [
    "expected = (N/1000)*(L**2/1000)*16  \n",
    "reported = mempool.total_bytes() / 1000**2\n",
    "actual = gpu()\n",
    "print(f\"Memory usage: {actual:.2f} MB (expected {expected:.2f} MB, reported {reported:.2f} MB)\")"
   ]
  },
  {
   "cell_type": "code",
   "execution_count": 7,
   "metadata": {},
   "outputs": [
    {
     "data": {
      "text/plain": [
       "array(0.)"
      ]
     },
     "execution_count": 7,
     "metadata": {},
     "output_type": "execute_result"
    }
   ],
   "source": [
    "x_correction, y_correction = mwpm(matching, state.q)\n",
    "logical_error(x_correction ^ state.x_error, y_correction ^ state.y_error).mean()"
   ]
  },
  {
   "cell_type": "code",
   "execution_count": 8,
   "metadata": {},
   "outputs": [
    {
     "name": "stdout",
     "output_type": "stream",
     "text": [
      "Memory usage: 3208.64 MB (expected 3200.00 MB, reported 3202.36 MB)\n"
     ]
    }
   ],
   "source": [
    "expected = (N/1000)*(L**2/1000)*16\n",
    "reported = mempool.total_bytes() / 1000**2\n",
    "actual = gpu()\n",
    "print(f\"Memory usage: {actual:.2f} MB (expected {expected:.2f} MB, reported {reported:.2f} MB)\")"
   ]
  }
 ],
 "metadata": {
  "kernelspec": {
   "display_name": "Python 3 (ipykernel)",
   "language": "python",
   "name": "python3"
  },
  "language_info": {
   "codemirror_mode": {
    "name": "ipython",
    "version": 3
   },
   "file_extension": ".py",
   "mimetype": "text/x-python",
   "name": "python",
   "nbconvert_exporter": "python",
   "pygments_lexer": "ipython3",
   "version": "3.12.4"
  }
 },
 "nbformat": 4,
 "nbformat_minor": 4
}
