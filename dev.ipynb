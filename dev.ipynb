{
 "cells": [
  {
   "cell_type": "code",
   "execution_count": 2,
   "metadata": {},
   "outputs": [],
   "source": [
    "import numpy as np\n",
    "from numba import jit"
   ]
  },
  {
   "cell_type": "code",
   "execution_count": 59,
   "metadata": {},
   "outputs": [],
   "source": [
    "@jit\n",
    "def roll_axis(a: np.ndarray, shift: int, axis: int) -> np.ndarray:\n",
    "    dim = a.ndim\n",
    "    assert 0 <= axis < dim, f\"axis {axis} for array with dimension {dim}\"\n",
    "    L = a.shape[axis]\n",
    "    shift %= L\n",
    "    if shift == 0:\n",
    "        return a\n",
    "    b = np.empty_like(a)\n",
    "    # Code goes here\n",
    "    if axis == 0:\n",
    "        b[:shift, ...] = a[-shift:, ...]\n",
    "        b[shift:, ...] = a[:-shift, ...]\n",
    "    elif axis == dim - 1:\n",
    "        b[..., :shift] = a[..., -shift:]\n",
    "        b[..., shift:] = a[..., :-shift]\n",
    "    else:\n",
    "        prefix = (slice(None),) * axis\n",
    "        # suffix = (slice(None),) * (dim - axis - 1)\n",
    "        suffix = (Ellipsis,)\n",
    "        b[prefix + (slice(None, shift),) + suffix] = a[prefix + (slice(-shift, None),) + suffix]\n",
    "        b[prefix + (slice(shift, None),) + suffix] = a[prefix + (slice(None, -shift),) + suffix]\n",
    "    return b"
   ]
  },
  {
   "cell_type": "code",
   "execution_count": 60,
   "metadata": {},
   "outputs": [
    {
     "name": "stdout",
     "output_type": "stream",
     "text": [
      "[[[ 0  1  2  3]\n",
      "  [ 4  5  6  7]\n",
      "  [ 8  9 10 11]]\n",
      "\n",
      " [[12 13 14 15]\n",
      "  [16 17 18 19]\n",
      "  [20 21 22 23]]]\n"
     ]
    },
    {
     "ename": "TypingError",
     "evalue": "Failed in nopython mode pipeline (step: nopython frontend)\n\u001b[1m\u001b[1mNo implementation of function Function(<built-in function mul>) found for signature:\n \n >>> mul(UniTuple(slice<a:b> x 1), int64)\n \nThere are 14 candidate implementations:\n\u001b[1m      - Of which 12 did not match due to:\n      Overload of function 'mul': File: <numerous>: Line N/A.\n        With argument(s): '(UniTuple(slice<a:b> x 1), int64)':\u001b[0m\n\u001b[1m       No match.\u001b[0m\n\u001b[1m      - Of which 2 did not match due to:\n      Operator Overload in function 'mul': File: unknown: Line unknown.\n        With argument(s): '(UniTuple(slice<a:b> x 1), int64)':\u001b[0m\n\u001b[1m       No match for registered cases:\n        * (int64, int64) -> int64\n        * (int64, uint64) -> int64\n        * (uint64, int64) -> int64\n        * (uint64, uint64) -> uint64\n        * (float32, float32) -> float32\n        * (float64, float64) -> float64\n        * (complex64, complex64) -> complex64\n        * (complex128, complex128) -> complex128\u001b[0m\n\u001b[0m\n\u001b[0m\u001b[1mDuring: typing of intrinsic-call at C:\\Users\\danie\\AppData\\Local\\Temp\\ipykernel_31612\\3934560876.py (18)\u001b[0m\n\u001b[1m\nFile \"..\\..\\..\\AppData\\Local\\Temp\\ipykernel_31612\\3934560876.py\", line 18:\u001b[0m\n\u001b[1m<source missing, REPL/exec in use?>\u001b[0m\n",
     "output_type": "error",
     "traceback": [
      "\u001b[1;31m---------------------------------------------------------------------------\u001b[0m",
      "\u001b[1;31mTypingError\u001b[0m                               Traceback (most recent call last)",
      "Cell \u001b[1;32mIn[60], line 3\u001b[0m\n\u001b[0;32m      1\u001b[0m myarray \u001b[38;5;241m=\u001b[39m np\u001b[38;5;241m.\u001b[39marange(\u001b[38;5;241m24\u001b[39m)\u001b[38;5;241m.\u001b[39mreshape(\u001b[38;5;241m2\u001b[39m, \u001b[38;5;241m3\u001b[39m, \u001b[38;5;241m4\u001b[39m)\n\u001b[0;32m      2\u001b[0m \u001b[38;5;28mprint\u001b[39m(myarray)\n\u001b[1;32m----> 3\u001b[0m \u001b[38;5;28mprint\u001b[39m(roll_axis(myarray, \u001b[38;5;241m2\u001b[39m, \u001b[38;5;241m0\u001b[39m))\n",
      "File \u001b[1;32mc:\\ProgramData\\Anaconda3\\envs\\toric\\Lib\\site-packages\\numba\\core\\dispatcher.py:423\u001b[0m, in \u001b[0;36m_DispatcherBase._compile_for_args\u001b[1;34m(self, *args, **kws)\u001b[0m\n\u001b[0;32m    419\u001b[0m         msg \u001b[38;5;241m=\u001b[39m (\u001b[38;5;124mf\u001b[39m\u001b[38;5;124m\"\u001b[39m\u001b[38;5;132;01m{\u001b[39;00m\u001b[38;5;28mstr\u001b[39m(e)\u001b[38;5;241m.\u001b[39mrstrip()\u001b[38;5;132;01m}\u001b[39;00m\u001b[38;5;124m \u001b[39m\u001b[38;5;130;01m\\n\u001b[39;00m\u001b[38;5;130;01m\\n\u001b[39;00m\u001b[38;5;124mThis error may have been caused \u001b[39m\u001b[38;5;124m\"\u001b[39m\n\u001b[0;32m    420\u001b[0m                \u001b[38;5;124mf\u001b[39m\u001b[38;5;124m\"\u001b[39m\u001b[38;5;124mby the following argument(s):\u001b[39m\u001b[38;5;130;01m\\n\u001b[39;00m\u001b[38;5;132;01m{\u001b[39;00margs_str\u001b[38;5;132;01m}\u001b[39;00m\u001b[38;5;130;01m\\n\u001b[39;00m\u001b[38;5;124m\"\u001b[39m)\n\u001b[0;32m    421\u001b[0m         e\u001b[38;5;241m.\u001b[39mpatch_message(msg)\n\u001b[1;32m--> 423\u001b[0m     error_rewrite(e, \u001b[38;5;124m'\u001b[39m\u001b[38;5;124mtyping\u001b[39m\u001b[38;5;124m'\u001b[39m)\n\u001b[0;32m    424\u001b[0m \u001b[38;5;28;01mexcept\u001b[39;00m errors\u001b[38;5;241m.\u001b[39mUnsupportedError \u001b[38;5;28;01mas\u001b[39;00m e:\n\u001b[0;32m    425\u001b[0m     \u001b[38;5;66;03m# Something unsupported is present in the user code, add help info\u001b[39;00m\n\u001b[0;32m    426\u001b[0m     error_rewrite(e, \u001b[38;5;124m'\u001b[39m\u001b[38;5;124munsupported_error\u001b[39m\u001b[38;5;124m'\u001b[39m)\n",
      "File \u001b[1;32mc:\\ProgramData\\Anaconda3\\envs\\toric\\Lib\\site-packages\\numba\\core\\dispatcher.py:364\u001b[0m, in \u001b[0;36m_DispatcherBase._compile_for_args.<locals>.error_rewrite\u001b[1;34m(e, issue_type)\u001b[0m\n\u001b[0;32m    362\u001b[0m     \u001b[38;5;28;01mraise\u001b[39;00m e\n\u001b[0;32m    363\u001b[0m \u001b[38;5;28;01melse\u001b[39;00m:\n\u001b[1;32m--> 364\u001b[0m     \u001b[38;5;28;01mraise\u001b[39;00m e\u001b[38;5;241m.\u001b[39mwith_traceback(\u001b[38;5;28;01mNone\u001b[39;00m)\n",
      "\u001b[1;31mTypingError\u001b[0m: Failed in nopython mode pipeline (step: nopython frontend)\n\u001b[1m\u001b[1mNo implementation of function Function(<built-in function mul>) found for signature:\n \n >>> mul(UniTuple(slice<a:b> x 1), int64)\n \nThere are 14 candidate implementations:\n\u001b[1m      - Of which 12 did not match due to:\n      Overload of function 'mul': File: <numerous>: Line N/A.\n        With argument(s): '(UniTuple(slice<a:b> x 1), int64)':\u001b[0m\n\u001b[1m       No match.\u001b[0m\n\u001b[1m      - Of which 2 did not match due to:\n      Operator Overload in function 'mul': File: unknown: Line unknown.\n        With argument(s): '(UniTuple(slice<a:b> x 1), int64)':\u001b[0m\n\u001b[1m       No match for registered cases:\n        * (int64, int64) -> int64\n        * (int64, uint64) -> int64\n        * (uint64, int64) -> int64\n        * (uint64, uint64) -> uint64\n        * (float32, float32) -> float32\n        * (float64, float64) -> float64\n        * (complex64, complex64) -> complex64\n        * (complex128, complex128) -> complex128\u001b[0m\n\u001b[0m\n\u001b[0m\u001b[1mDuring: typing of intrinsic-call at C:\\Users\\danie\\AppData\\Local\\Temp\\ipykernel_31612\\3934560876.py (18)\u001b[0m\n\u001b[1m\nFile \"..\\..\\..\\AppData\\Local\\Temp\\ipykernel_31612\\3934560876.py\", line 18:\u001b[0m\n\u001b[1m<source missing, REPL/exec in use?>\u001b[0m\n"
     ]
    }
   ],
   "source": [
    "myarray = np.arange(24).reshape(2, 3, 4)\n",
    "print(myarray)\n",
    "print(roll_axis(myarray, 2, 0))"
   ]
  },
  {
   "cell_type": "code",
   "execution_count": 38,
   "metadata": {},
   "outputs": [],
   "source": [
    "myslice = slice(-1,None)\n",
    "myarray = np.arange(10)"
   ]
  },
  {
   "cell_type": "code",
   "execution_count": 41,
   "metadata": {},
   "outputs": [
    {
     "data": {
      "text/plain": [
       "array([[9]])"
      ]
     },
     "execution_count": 41,
     "metadata": {},
     "output_type": "execute_result"
    }
   ],
   "source": [
    "myarray.reshape(2,5)[(myslice, myslice)]"
   ]
  },
  {
   "cell_type": "code",
   "execution_count": 39,
   "metadata": {},
   "outputs": [
    {
     "data": {
      "text/plain": [
       "array([9])"
      ]
     },
     "execution_count": 39,
     "metadata": {},
     "output_type": "execute_result"
    }
   ],
   "source": [
    "myarray[myslice]"
   ]
  },
  {
   "cell_type": "code",
   "execution_count": 24,
   "metadata": {},
   "outputs": [],
   "source": [
    "@jit\n",
    "def roll(a: np.ndarray, shift: tuple[int, ...]) -> np.ndarray:\n",
    "    \"\"\"\n",
    "    Rolls the elements of an array. For 1D arrays, use np.roll.\n",
    "\n",
    "    Parameters:\n",
    "    a (np.ndarray): The input array.\n",
    "    shift (tuple): The number of places by which elements are shifted. Must have the same length as the number of dimensions of a.\n",
    "\n",
    "    Returns:\n",
    "    np.ndarray: The rolled array.\n",
    "    \"\"\"\n",
    "    dim = len(a.shape)\n",
    "    assert len(shift) == dim, \"The length of shift must be the same as the number of dimensions of a.\"\n",
    "\n",
    "    b = a.copy()\n",
    "\n",
    "    for i in range(dim):\n",
    "        b = np.empty_like(a)"
   ]
  },
  {
   "cell_type": "code",
   "execution_count": 25,
   "metadata": {},
   "outputs": [
    {
     "ename": "TypingError",
     "evalue": "Failed in nopython mode pipeline (step: nopython frontend)\n\u001b[1m\u001b[1m\u001b[1mNo implementation of function Function(<class 'zip'>) found for signature:\n \n >>> zip(int64, int64)\n \nThere are 2 candidate implementations:\n\u001b[1m  - Of which 2 did not match due to:\n  Overload of function 'zip': File: numba\\core\\typing\\builtins.py: Line 1067.\n    With argument(s): '(int64, int64)':\u001b[0m\n\u001b[1m   No match.\u001b[0m\n\u001b[0m\n\u001b[0m\u001b[1mDuring: resolving callee type: Function(<class 'zip'>)\u001b[0m\n\u001b[0m\u001b[1mDuring: typing of call at C:\\Users\\danie\\AppData\\Local\\Temp\\ipykernel_31612\\975340562.py (4)\n\u001b[0m\n\u001b[1m\nFile \"..\\..\\..\\AppData\\Local\\Temp\\ipykernel_31612\\975340562.py\", line 4:\u001b[0m\n\u001b[1m<source missing, REPL/exec in use?>\u001b[0m\n",
     "output_type": "error",
     "traceback": [
      "\u001b[1;31m---------------------------------------------------------------------------\u001b[0m",
      "\u001b[1;31mTypingError\u001b[0m                               Traceback (most recent call last)",
      "Cell \u001b[1;32mIn[25], line 2\u001b[0m\n\u001b[0;32m      1\u001b[0m myarray \u001b[38;5;241m=\u001b[39m np\u001b[38;5;241m.\u001b[39mzeros((\u001b[38;5;241m2\u001b[39m, \u001b[38;5;241m2\u001b[39m, \u001b[38;5;241m2\u001b[39m, \u001b[38;5;241m2\u001b[39m))\n\u001b[1;32m----> 2\u001b[0m roll(myarray, \u001b[38;5;241m1\u001b[39m, \u001b[38;5;241m1\u001b[39m)\n",
      "File \u001b[1;32mc:\\ProgramData\\Anaconda3\\envs\\toric\\Lib\\site-packages\\numba\\core\\dispatcher.py:423\u001b[0m, in \u001b[0;36m_DispatcherBase._compile_for_args\u001b[1;34m(self, *args, **kws)\u001b[0m\n\u001b[0;32m    419\u001b[0m         msg \u001b[38;5;241m=\u001b[39m (\u001b[38;5;124mf\u001b[39m\u001b[38;5;124m\"\u001b[39m\u001b[38;5;132;01m{\u001b[39;00m\u001b[38;5;28mstr\u001b[39m(e)\u001b[38;5;241m.\u001b[39mrstrip()\u001b[38;5;132;01m}\u001b[39;00m\u001b[38;5;124m \u001b[39m\u001b[38;5;130;01m\\n\u001b[39;00m\u001b[38;5;130;01m\\n\u001b[39;00m\u001b[38;5;124mThis error may have been caused \u001b[39m\u001b[38;5;124m\"\u001b[39m\n\u001b[0;32m    420\u001b[0m                \u001b[38;5;124mf\u001b[39m\u001b[38;5;124m\"\u001b[39m\u001b[38;5;124mby the following argument(s):\u001b[39m\u001b[38;5;130;01m\\n\u001b[39;00m\u001b[38;5;132;01m{\u001b[39;00margs_str\u001b[38;5;132;01m}\u001b[39;00m\u001b[38;5;130;01m\\n\u001b[39;00m\u001b[38;5;124m\"\u001b[39m)\n\u001b[0;32m    421\u001b[0m         e\u001b[38;5;241m.\u001b[39mpatch_message(msg)\n\u001b[1;32m--> 423\u001b[0m     error_rewrite(e, \u001b[38;5;124m'\u001b[39m\u001b[38;5;124mtyping\u001b[39m\u001b[38;5;124m'\u001b[39m)\n\u001b[0;32m    424\u001b[0m \u001b[38;5;28;01mexcept\u001b[39;00m errors\u001b[38;5;241m.\u001b[39mUnsupportedError \u001b[38;5;28;01mas\u001b[39;00m e:\n\u001b[0;32m    425\u001b[0m     \u001b[38;5;66;03m# Something unsupported is present in the user code, add help info\u001b[39;00m\n\u001b[0;32m    426\u001b[0m     error_rewrite(e, \u001b[38;5;124m'\u001b[39m\u001b[38;5;124munsupported_error\u001b[39m\u001b[38;5;124m'\u001b[39m)\n",
      "File \u001b[1;32mc:\\ProgramData\\Anaconda3\\envs\\toric\\Lib\\site-packages\\numba\\core\\dispatcher.py:364\u001b[0m, in \u001b[0;36m_DispatcherBase._compile_for_args.<locals>.error_rewrite\u001b[1;34m(e, issue_type)\u001b[0m\n\u001b[0;32m    362\u001b[0m     \u001b[38;5;28;01mraise\u001b[39;00m e\n\u001b[0;32m    363\u001b[0m \u001b[38;5;28;01melse\u001b[39;00m:\n\u001b[1;32m--> 364\u001b[0m     \u001b[38;5;28;01mraise\u001b[39;00m e\u001b[38;5;241m.\u001b[39mwith_traceback(\u001b[38;5;28;01mNone\u001b[39;00m)\n",
      "\u001b[1;31mTypingError\u001b[0m: Failed in nopython mode pipeline (step: nopython frontend)\n\u001b[1m\u001b[1m\u001b[1mNo implementation of function Function(<class 'zip'>) found for signature:\n \n >>> zip(int64, int64)\n \nThere are 2 candidate implementations:\n\u001b[1m  - Of which 2 did not match due to:\n  Overload of function 'zip': File: numba\\core\\typing\\builtins.py: Line 1067.\n    With argument(s): '(int64, int64)':\u001b[0m\n\u001b[1m   No match.\u001b[0m\n\u001b[0m\n\u001b[0m\u001b[1mDuring: resolving callee type: Function(<class 'zip'>)\u001b[0m\n\u001b[0m\u001b[1mDuring: typing of call at C:\\Users\\danie\\AppData\\Local\\Temp\\ipykernel_31612\\975340562.py (4)\n\u001b[0m\n\u001b[1m\nFile \"..\\..\\..\\AppData\\Local\\Temp\\ipykernel_31612\\975340562.py\", line 4:\u001b[0m\n\u001b[1m<source missing, REPL/exec in use?>\u001b[0m\n"
     ]
    }
   ],
   "source": [
    "myarray = np.zeros((2, 2, 2, 2))\n",
    "roll(myarray, (1, 0, 0, 0))"
   ]
  },
  {
   "cell_type": "code",
   "execution_count": null,
   "metadata": {},
   "outputs": [],
   "source": []
  }
 ],
 "metadata": {
  "kernelspec": {
   "display_name": "toric",
   "language": "python",
   "name": "python3"
  },
  "language_info": {
   "codemirror_mode": {
    "name": "ipython",
    "version": 3
   },
   "file_extension": ".py",
   "mimetype": "text/x-python",
   "name": "python",
   "nbconvert_exporter": "python",
   "pygments_lexer": "ipython3",
   "version": "3.12.4"
  }
 },
 "nbformat": 4,
 "nbformat_minor": 2
}
