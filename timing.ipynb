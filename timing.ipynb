{
 "cells": [
  {
   "cell_type": "code",
   "execution_count": 1,
   "metadata": {},
   "outputs": [],
   "source": [
    "import numpy as np\n",
    "from glob import glob\n",
    "from datetime import datetime"
   ]
  },
  {
   "cell_type": "code",
   "execution_count": 13,
   "metadata": {},
   "outputs": [],
   "source": [
    "fn = {}\n",
    "for f in glob(\"slurm-*.out\"):\n",
    "    fn[int(f.split(\"_\")[1].split(\".\")[0])] = f"
   ]
  },
  {
   "cell_type": "code",
   "execution_count": 14,
   "metadata": {},
   "outputs": [
    {
     "name": "stdout",
     "output_type": "stream",
     "text": [
      "Failed to read slurm-51233247_691.out\n",
      "Failed to read slurm-51233247_819.out\n",
      "Failed to read slurm-51233247_820.out\n",
      "Failed to read slurm-51233247_919.out\n",
      "Failed to read slurm-51233247_920.out\n",
      "Failed to read slurm-51233247_921.out\n",
      "Failed to read slurm-51233247_922.out\n",
      "Failed to read slurm-51233247_923.out\n",
      "Failed to read slurm-51233247_924.out\n",
      "Failed to read slurm-51233247_925.out\n",
      "Failed to read slurm-51233247_962.out\n",
      "Failed to read slurm-51233247_965.out\n",
      "Failed to read slurm-51233247_968.out\n",
      "Failed to read slurm-51233247_971.out\n",
      "Failed to read slurm-51233247_972.out\n",
      "Failed to read slurm-51233247_973.out\n",
      "Failed to read slurm-51233247_974.out\n",
      "Failed to read slurm-51233247_975.out\n",
      "Failed to read slurm-51233247_999.out\n"
     ]
    }
   ],
   "source": [
    "lengths = []\n",
    "for n in range(1000):\n",
    "    with open(fn[n], \"r\") as f:\n",
    "        lines = f.readlines()\n",
    "        line = lines[0]\n",
    "        if len(line) < 8:\n",
    "            lengths.append(int(line))\n",
    "        else:\n",
    "            lengths.append(np.NaN)\n",
    "            print(f\"Failed to read {fn[n]}\")"
   ]
  },
  {
   "cell_type": "code",
   "execution_count": 15,
   "metadata": {},
   "outputs": [],
   "source": [
    "lengths = np.array(lengths)"
   ]
  },
  {
   "cell_type": "code",
   "execution_count": 17,
   "metadata": {},
   "outputs": [],
   "source": [
    "lengths = lengths.reshape((10, 100))"
   ]
  },
  {
   "cell_type": "code",
   "execution_count": 18,
   "metadata": {},
   "outputs": [],
   "source": [
    "means = np.nanmean(lengths, axis=1)\n",
    "stds = np.nanstd(lengths, axis=1)"
   ]
  },
  {
   "cell_type": "code",
   "execution_count": 23,
   "metadata": {},
   "outputs": [],
   "source": [
    "f_means = np.array([means//3600, means%3600//60, np.round(means%60)])\n",
    "f_stds = np.array([stds//3600, stds%3600//60, np.round(stds%60)])"
   ]
  },
  {
   "cell_type": "code",
   "execution_count": 24,
   "metadata": {},
   "outputs": [
    {
     "name": "stdout",
     "output_type": "stream",
     "text": [
      "[[ 0.  0.  0.  0.  0.  0.  0.  0.  1.  1.]\n",
      " [ 2.  4.  6.  7. 14. 18. 27. 48.  4. 19.]\n",
      " [40. 55. 59.  5. 34. 58.  3.  4. 33. 50.]]\n",
      "[[ 0.  0.  0.  0.  0.  0.  0.  0.  0.  0.]\n",
      " [ 1.  2.  2.  2.  5.  6.  7. 13. 18. 16.]\n",
      " [40. 41. 33. 22. 25. 13.  9. 26. 18.  3.]]\n"
     ]
    }
   ],
   "source": [
    "print(f_means)\n",
    "print(f_stds)"
   ]
  },
  {
   "cell_type": "code",
   "execution_count": null,
   "metadata": {},
   "outputs": [],
   "source": []
  }
 ],
 "metadata": {
  "kernelspec": {
   "display_name": "toric",
   "language": "python",
   "name": "python3"
  },
  "language_info": {
   "codemirror_mode": {
    "name": "ipython",
    "version": 3
   },
   "file_extension": ".py",
   "mimetype": "text/x-python",
   "name": "python",
   "nbconvert_exporter": "python",
   "pygments_lexer": "ipython3",
   "version": "3.12.4"
  }
 },
 "nbformat": 4,
 "nbformat_minor": 2
}
