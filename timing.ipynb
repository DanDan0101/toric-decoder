{
 "cells": [
  {
   "cell_type": "code",
   "execution_count": 1,
   "metadata": {},
   "outputs": [],
   "source": [
    "import numpy as np\n",
    "from glob import glob\n",
    "from datetime import datetime"
   ]
  },
  {
   "cell_type": "code",
   "execution_count": 2,
   "metadata": {},
   "outputs": [],
   "source": [
    "fn = {}"
   ]
  },
  {
   "cell_type": "code",
   "execution_count": 3,
   "metadata": {},
   "outputs": [],
   "source": [
    "for f in glob(\"slurm-*.out\"):\n",
    "    fn[int(f.split(\"_\")[1].split(\".\")[0])] = f"
   ]
  },
  {
   "cell_type": "code",
   "execution_count": 18,
   "metadata": {},
   "outputs": [
    {
     "name": "stdout",
     "output_type": "stream",
     "text": [
      "Failed to read slurm-51210225_48.out\n",
      "Failed to read slurm-51210225_49.out\n"
     ]
    }
   ],
   "source": [
    "lengths = []\n",
    "for n in range(50):\n",
    "    with open(fn[n], \"r\") as f:\n",
    "        lines = f.readlines()\n",
    "        try:\n",
    "            time = datetime.strptime(lines[1], \"%H:%M:%S\\n\")\n",
    "            seconds = time.second + time.minute*60 + time.hour*3600\n",
    "            lengths.append(seconds)\n",
    "        except:\n",
    "            print(f\"Failed to read {fn[n]}\")"
   ]
  },
  {
   "cell_type": "code",
   "execution_count": 19,
   "metadata": {},
   "outputs": [],
   "source": [
    "lengths = np.array(lengths)"
   ]
  },
  {
   "cell_type": "code",
   "execution_count": 23,
   "metadata": {},
   "outputs": [],
   "source": [
    "lengths = np.append(lengths, [np.NaN, np.NaN])"
   ]
  },
  {
   "cell_type": "code",
   "execution_count": 25,
   "metadata": {},
   "outputs": [],
   "source": [
    "lengths = lengths.reshape((5, 10))"
   ]
  },
  {
   "cell_type": "code",
   "execution_count": 30,
   "metadata": {},
   "outputs": [],
   "source": [
    "means = np.nanmean(lengths, axis=1)\n",
    "stds = np.nanstd(lengths, axis=1)"
   ]
  },
  {
   "cell_type": "code",
   "execution_count": 32,
   "metadata": {},
   "outputs": [
    {
     "name": "stdout",
     "output_type": "stream",
     "text": [
      "[0. 0. 0. 0. 1.] [ 4.  7. 19. 45. 40.] [27.7   58.    45.    48.7   53.125]\n",
      "[0. 0. 0. 0. 0.] [0. 1. 1. 1. 4.] [42.24464463 27.94430055 26.35855487 21.73499862 35.49475381]\n"
     ]
    }
   ],
   "source": [
    "print(means // 3600, means % 3600 // 60, means % 60)\n",
    "print(stds // 3600, stds % 3600 // 60, stds % 60)"
   ]
  },
  {
   "cell_type": "code",
   "execution_count": null,
   "metadata": {},
   "outputs": [],
   "source": []
  }
 ],
 "metadata": {
  "kernelspec": {
   "display_name": "toric",
   "language": "python",
   "name": "python3"
  },
  "language_info": {
   "codemirror_mode": {
    "name": "ipython",
    "version": 3
   },
   "file_extension": ".py",
   "mimetype": "text/x-python",
   "name": "python",
   "nbconvert_exporter": "python",
   "pygments_lexer": "ipython3",
   "version": "3.12.4"
  }
 },
 "nbformat": 4,
 "nbformat_minor": 2
}
