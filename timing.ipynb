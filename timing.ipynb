{
 "cells": [
  {
   "cell_type": "code",
   "execution_count": 1,
   "metadata": {},
   "outputs": [],
   "source": [
    "import numpy as np\n",
    "from glob import glob\n",
    "from datetime import datetime"
   ]
  },
  {
   "cell_type": "code",
   "execution_count": 2,
   "metadata": {},
   "outputs": [],
   "source": [
    "fn = {}\n",
    "for f in glob(\"slurm-*.out\"):\n",
    "    fn[int(f.split(\"_\")[1].split(\".\")[0])] = f"
   ]
  },
  {
   "cell_type": "code",
   "execution_count": 3,
   "metadata": {},
   "outputs": [
    {
     "name": "stdout",
     "output_type": "stream",
     "text": [
      "Failed to read slurm-51250274_715.out\n",
      "Failed to read slurm-51250274_725.out\n",
      "Failed to read slurm-51250274_896.out\n",
      "Failed to read slurm-51250274_898.out\n",
      "Failed to read slurm-51250274_944.out\n"
     ]
    }
   ],
   "source": [
    "lengths = []\n",
    "for n in range(1000):\n",
    "    with open(fn[n], \"r\") as f:\n",
    "        lines = f.readlines()\n",
    "        line = lines[0]\n",
    "        if len(line) < 8:\n",
    "            lengths.append(int(line))\n",
    "        else:\n",
    "            lengths.append(np.NaN)\n",
    "            print(f\"Failed to read {fn[n]}\")"
   ]
  },
  {
   "cell_type": "code",
   "execution_count": 4,
   "metadata": {},
   "outputs": [],
   "source": [
    "lengths = np.array(lengths)"
   ]
  },
  {
   "cell_type": "code",
   "execution_count": 14,
   "metadata": {},
   "outputs": [],
   "source": [
    "lengths = lengths.reshape((5, 20, 10))"
   ]
  },
  {
   "cell_type": "code",
   "execution_count": 15,
   "metadata": {},
   "outputs": [],
   "source": [
    "means = np.nanmean(lengths, axis=(1,2))\n",
    "stds = np.nanstd(lengths, axis=(1,2))"
   ]
  },
  {
   "cell_type": "code",
   "execution_count": 16,
   "metadata": {},
   "outputs": [],
   "source": [
    "f_means = np.array([means//3600, means%3600//60, np.round(means%60)])\n",
    "f_stds = np.array([stds//3600, stds%3600//60, np.round(stds%60)])"
   ]
  },
  {
   "cell_type": "code",
   "execution_count": 17,
   "metadata": {},
   "outputs": [
    {
     "name": "stdout",
     "output_type": "stream",
     "text": [
      "[[ 0.  0.  0.  0.  1.]\n",
      " [ 6. 10. 18. 46. 23.]\n",
      " [ 6. 49. 55. 53. 14.]]\n",
      "[[ 0.  0.  0.  0.  0.]\n",
      " [ 3.  3.  5. 16. 20.]\n",
      " [21. 37. 21. 29. 52.]]\n"
     ]
    }
   ],
   "source": [
    "print(f_means)\n",
    "print(f_stds)"
   ]
  },
  {
   "cell_type": "code",
   "execution_count": null,
   "metadata": {},
   "outputs": [],
   "source": []
  }
 ],
 "metadata": {
  "kernelspec": {
   "display_name": "toric",
   "language": "python",
   "name": "python3"
  },
  "language_info": {
   "codemirror_mode": {
    "name": "ipython",
    "version": 3
   },
   "file_extension": ".py",
   "mimetype": "text/x-python",
   "name": "python",
   "nbconvert_exporter": "python",
   "pygments_lexer": "ipython3",
   "version": "3.12.4"
  }
 },
 "nbformat": 4,
 "nbformat_minor": 2
}
